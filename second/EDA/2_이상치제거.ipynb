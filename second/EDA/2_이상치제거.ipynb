{
 "cells": [
  {
   "cell_type": "markdown",
   "metadata": {},
   "source": [
    "# 이상치 제거\n",
    "- 극단이상치 제거 : OL 이하, OU 이상\n",
    "    - OL = Q1 - 3 * IQR\n",
    "    - OU = Q3 + 3 * IQR"
   ]
  },
  {
   "cell_type": "code",
   "execution_count": 113,
   "metadata": {},
   "outputs": [
    {
     "data": {
      "text/html": [
       "<div>\n",
       "<style scoped>\n",
       "    .dataframe tbody tr th:only-of-type {\n",
       "        vertical-align: middle;\n",
       "    }\n",
       "\n",
       "    .dataframe tbody tr th {\n",
       "        vertical-align: top;\n",
       "    }\n",
       "\n",
       "    .dataframe thead th {\n",
       "        text-align: right;\n",
       "    }\n",
       "</style>\n",
       "<table border=\"1\" class=\"dataframe\">\n",
       "  <thead>\n",
       "    <tr style=\"text-align: right;\">\n",
       "      <th></th>\n",
       "      <th>sex</th>\n",
       "      <th>age</th>\n",
       "      <th>sbp</th>\n",
       "      <th>dbp</th>\n",
       "      <th>fbs</th>\n",
       "      <th>dis</th>\n",
       "      <th>bmi</th>\n",
       "      <th>ppr</th>\n",
       "      <th>htn</th>\n",
       "      <th>dm</th>\n",
       "    </tr>\n",
       "  </thead>\n",
       "  <tbody>\n",
       "    <tr>\n",
       "      <th>0</th>\n",
       "      <td>1</td>\n",
       "      <td>1</td>\n",
       "      <td>116</td>\n",
       "      <td>78</td>\n",
       "      <td>94</td>\n",
       "      <td>4</td>\n",
       "      <td>16.6</td>\n",
       "      <td>38</td>\n",
       "      <td>0</td>\n",
       "      <td>0</td>\n",
       "    </tr>\n",
       "    <tr>\n",
       "      <th>1</th>\n",
       "      <td>1</td>\n",
       "      <td>1</td>\n",
       "      <td>100</td>\n",
       "      <td>60</td>\n",
       "      <td>79</td>\n",
       "      <td>4</td>\n",
       "      <td>22.3</td>\n",
       "      <td>40</td>\n",
       "      <td>0</td>\n",
       "      <td>0</td>\n",
       "    </tr>\n",
       "    <tr>\n",
       "      <th>2</th>\n",
       "      <td>1</td>\n",
       "      <td>1</td>\n",
       "      <td>100</td>\n",
       "      <td>60</td>\n",
       "      <td>87</td>\n",
       "      <td>4</td>\n",
       "      <td>21.9</td>\n",
       "      <td>40</td>\n",
       "      <td>0</td>\n",
       "      <td>0</td>\n",
       "    </tr>\n",
       "    <tr>\n",
       "      <th>3</th>\n",
       "      <td>1</td>\n",
       "      <td>1</td>\n",
       "      <td>111</td>\n",
       "      <td>70</td>\n",
       "      <td>72</td>\n",
       "      <td>4</td>\n",
       "      <td>20.2</td>\n",
       "      <td>41</td>\n",
       "      <td>0</td>\n",
       "      <td>0</td>\n",
       "    </tr>\n",
       "    <tr>\n",
       "      <th>4</th>\n",
       "      <td>1</td>\n",
       "      <td>1</td>\n",
       "      <td>120</td>\n",
       "      <td>80</td>\n",
       "      <td>98</td>\n",
       "      <td>4</td>\n",
       "      <td>20.0</td>\n",
       "      <td>40</td>\n",
       "      <td>0</td>\n",
       "      <td>0</td>\n",
       "    </tr>\n",
       "  </tbody>\n",
       "</table>\n",
       "</div>"
      ],
      "text/plain": [
       "   sex  age  sbp  dbp  fbs  dis   bmi  ppr  htn  dm\n",
       "0    1    1  116   78   94    4  16.6   38    0   0\n",
       "1    1    1  100   60   79    4  22.3   40    0   0\n",
       "2    1    1  100   60   87    4  21.9   40    0   0\n",
       "3    1    1  111   70   72    4  20.2   41    0   0\n",
       "4    1    1  120   80   98    4  20.0   40    0   0"
      ]
     },
     "execution_count": 113,
     "metadata": {},
     "output_type": "execute_result"
    }
   ],
   "source": [
    "import pandas as pd\n",
    "\n",
    "data = pd.read_csv('htn_dm.csv')\n",
    "data.head()"
   ]
  },
  {
   "cell_type": "code",
   "execution_count": 114,
   "metadata": {},
   "outputs": [
    {
     "data": {
      "text/plain": [
       "sex    0\n",
       "age    0\n",
       "sbp    0\n",
       "dbp    0\n",
       "fbs    0\n",
       "dis    0\n",
       "bmi    0\n",
       "ppr    0\n",
       "htn    0\n",
       "dm     0\n",
       "dtype: int64"
      ]
     },
     "execution_count": 114,
     "metadata": {},
     "output_type": "execute_result"
    }
   ],
   "source": [
    "data.isnull().sum()"
   ]
  },
  {
   "cell_type": "code",
   "execution_count": 115,
   "metadata": {},
   "outputs": [
    {
     "data": {
      "text/plain": [
       "(1000000, 10)"
      ]
     },
     "execution_count": 115,
     "metadata": {},
     "output_type": "execute_result"
    }
   ],
   "source": [
    "data.shape"
   ]
  },
  {
   "cell_type": "markdown",
   "metadata": {},
   "source": [
    "### 1. sbp 확인"
   ]
  },
  {
   "cell_type": "code",
   "execution_count": 116,
   "metadata": {},
   "outputs": [],
   "source": [
    "import seaborn as sns\n",
    "import matplotlib.pyplot as plt\n",
    "import matplotlib as mpl"
   ]
  },
  {
   "cell_type": "code",
   "execution_count": 117,
   "metadata": {},
   "outputs": [
    {
     "data": {
      "image/png": "[encoded data removed]",
      "text/plain": [
       "<Figure size 432x288 with 1 Axes>"
      ]
     },
     "metadata": {
      "needs_background": "light"
     },
     "output_type": "display_data"
    }
   ],
   "source": [
    "# 상자그림\n",
    "\n",
    "green_diamond = dict(markerfacecolor='g', marker='D')\n",
    "plt.boxplot(data['sbp'], vert=False, flierprops=green_diamond)\n",
    "plt.show()"
   ]
  },
  {
   "cell_type": "code",
   "execution_count": 118,
   "metadata": {},
   "outputs": [
    {
     "data": {
      "text/plain": [
       "count    1000000.000000\n",
       "mean         121.871763\n",
       "std           14.561706\n",
       "min           82.000000\n",
       "25%          110.000000\n",
       "50%          120.000000\n",
       "75%          130.000000\n",
       "max          190.000000\n",
       "Name: sbp, dtype: float64"
      ]
     },
     "execution_count": 118,
     "metadata": {},
     "output_type": "execute_result"
    }
   ],
   "source": [
    "data['sbp'].describe()"
   ]
  },
  {
   "cell_type": "code",
   "execution_count": 119,
   "metadata": {},
   "outputs": [
    {
     "name": "stdout",
     "output_type": "stream",
     "text": [
      "sbp의 OL =  50.0\n",
      "sbp의 OU =  190.0\n",
      "극단 이상치 개수 :  0\n"
     ]
    }
   ],
   "source": [
    "# OL, OU 구하기\n",
    "\n",
    "m = data['sbp'].median() # 중위수\n",
    "q1 = data['sbp'].describe()['25%'] # sbp의 q1\n",
    "q3 = data['sbp'].describe()['75%'] # sbp의 q3\n",
    "iqr = q3 - q1 # sbp의 iqr\n",
    "\n",
    "sbp_ol = q1 - 3 * iqr\n",
    "sbp_ou = q3 + 3 * iqr\n",
    "\n",
    "print('sbp의 OL = ', sbp_ol)\n",
    "print('sbp의 OU = ', sbp_ou)\n",
    "\n",
    "# 이상치 개수\n",
    "\n",
    "num1 = data[data['sbp'] < sbp_ol].count()['sbp']\n",
    "num2 = data[data['sbp'] > sbp_ou].count()['sbp']\n",
    "\n",
    "sbp_sum = num1+num2\n",
    "\n",
    "print('극단 이상치 개수 : ', sbp_sum)"
   ]
  },
  {
   "cell_type": "markdown",
   "metadata": {},
   "source": [
    "### 2. dbp 확인"
   ]
  },
  {
   "cell_type": "code",
   "execution_count": 120,
   "metadata": {},
   "outputs": [
    {
     "data": {
      "image/png": "[encoded data removed]",
      "text/plain": [
       "<Figure size 432x288 with 1 Axes>"
      ]
     },
     "metadata": {
      "needs_background": "light"
     },
     "output_type": "display_data"
    }
   ],
   "source": [
    "# 상자그림\n",
    "\n",
    "green_diamond = dict(markerfacecolor='g', marker='D')\n",
    "plt.boxplot(data['dbp'], vert=False, flierprops=green_diamond)\n",
    "plt.show()"
   ]
  },
  {
   "cell_type": "code",
   "execution_count": 121,
   "metadata": {},
   "outputs": [
    {
     "name": "stdout",
     "output_type": "stream",
     "text": [
      "dbp의 OL =  40.0\n",
      "dbp의 OU =  110.0\n",
      "극단 이상치 개수 :  1439\n"
     ]
    }
   ],
   "source": [
    "# OL, OU 구하기\n",
    "\n",
    "m = data['dbp'].median() # 중위수\n",
    "q1 = data['dbp'].describe()['25%'] # sbp의 q1\n",
    "q3 = data['dbp'].describe()['75%'] # sbp의 q3\n",
    "iqr = q3 - q1 # sbp의 iqr\n",
    "\n",
    "dbp_ol = q1 - 3 * iqr\n",
    "dbp_ou = q3 + 3 * iqr\n",
    "\n",
    "print('dbp의 OL = ', dbp_ol)\n",
    "print('dbp의 OU = ', dbp_ou)\n",
    "\n",
    "# 이상치 개수\n",
    "\n",
    "num1 = data[data['dbp'] < dbp_ol].count()['dbp']\n",
    "num2 = data[data['dbp'] > dbp_ou].count()['dbp']\n",
    "\n",
    "dbp_sum = num1+num2  \n",
    "\n",
    "print('극단 이상치 개수 : ', dbp_sum)"
   ]
  },
  {
   "cell_type": "markdown",
   "metadata": {},
   "source": [
    "### 3. fbs 확인"
   ]
  },
  {
   "cell_type": "code",
   "execution_count": 122,
   "metadata": {},
   "outputs": [
    {
     "data": {
      "image/png": "[encoded data removed]",
      "text/plain": [
       "<Figure size 432x288 with 1 Axes>"
      ]
     },
     "metadata": {
      "needs_background": "light"
     },
     "output_type": "display_data"
    }
   ],
   "source": [
    "# 상자그림\n",
    "\n",
    "green_diamond = dict(markerfacecolor='g', marker='D')\n",
    "plt.boxplot(data['fbs'], vert=False, flierprops=green_diamond)\n",
    "plt.show()"
   ]
  },
  {
   "cell_type": "code",
   "execution_count": 123,
   "metadata": {},
   "outputs": [
    {
     "name": "stdout",
     "output_type": "stream",
     "text": [
      "fbs의 OL =  36.0\n",
      "fbs의 OU =  155.0\n",
      "극단 이상치 개수 :  26680\n"
     ]
    }
   ],
   "source": [
    "# OL, OU 구하기\n",
    "\n",
    "m = data['fbs'].median() # 중위수\n",
    "q1 = data['fbs'].describe()['25%'] # sbp의 q1\n",
    "q3 = data['fbs'].describe()['75%'] # sbp의 q3\n",
    "iqr = q3 - q1 # sbp의 iqr\n",
    "\n",
    "fbs_ol = q1 - 3 * iqr\n",
    "fbs_ou = q3 + 3 * iqr\n",
    "\n",
    "print('fbs의 OL = ', fbs_ol)\n",
    "print('fbs의 OU = ', fbs_ou)\n",
    "\n",
    "# 이상치 개수\n",
    "\n",
    "num1 = data[data['fbs'] < fbs_ol].count()['fbs']\n",
    "num2 = data[data['fbs'] > fbs_ou].count()['fbs']\n",
    "\n",
    "fbs_sum = num1+num2\n",
    "\n",
    "print('극단 이상치 개수 : ', fbs_sum)"
   ]
  },
  {
   "cell_type": "markdown",
   "metadata": {},
   "source": [
    "### 4. bmi 확인"
   ]
  },
  {
   "cell_type": "code",
   "execution_count": 124,
   "metadata": {},
   "outputs": [
    {
     "data": {
      "image/png": "[encoded data removed]",
      "text/plain": [
       "<Figure size 432x288 with 1 Axes>"
      ]
     },
     "metadata": {
      "needs_background": "light"
     },
     "output_type": "display_data"
    }
   ],
   "source": [
    "# 상자그림\n",
    "\n",
    "green_diamond = dict(markerfacecolor='g', marker='D')\n",
    "plt.boxplot(data['bmi'], vert=False, flierprops=green_diamond)\n",
    "plt.show()"
   ]
  },
  {
   "cell_type": "code",
   "execution_count": 125,
   "metadata": {},
   "outputs": [
    {
     "name": "stdout",
     "output_type": "stream",
     "text": [
      "bmi의 OL =  8.599999999999998\n",
      "bmi의 OU =  38.7\n",
      "극단 이상치 개수 :  417\n"
     ]
    }
   ],
   "source": [
    "# OL, OU 구하기\n",
    "\n",
    "m = data['bmi'].median() # 중위수\n",
    "q1 = data['bmi'].describe()['25%'] # sbp의 q1\n",
    "q3 = data['bmi'].describe()['75%'] # sbp의 q3\n",
    "iqr = q3 - q1 # sbp의 iqr\n",
    "\n",
    "bmi_ol = q1 - 3 * iqr\n",
    "bmi_ou = q3 + 3 * iqr\n",
    "\n",
    "print('bmi의 OL = ', bmi_ol)\n",
    "print('bmi의 OU = ', bmi_ou)\n",
    "\n",
    "# 이상치 개수\n",
    "\n",
    "num1 = data[data['bmi'] < bmi_ol].count()['bmi']\n",
    "num2 = data[data['bmi'] > bmi_ou].count()['bmi']\n",
    "\n",
    "bmi_sum = num1+num2\n",
    "\n",
    "print('극단 이상치 개수 : ', bmi_sum)"
   ]
  },
  {
   "cell_type": "markdown",
   "metadata": {},
   "source": [
    "### 5. ppr 확인"
   ]
  },
  {
   "cell_type": "code",
   "execution_count": 126,
   "metadata": {},
   "outputs": [
    {
     "data": {
      "image/png": "[encoded data removed]",
      "text/plain": [
       "<Figure size 432x288 with 1 Axes>"
      ]
     },
     "metadata": {
      "needs_background": "light"
     },
     "output_type": "display_data"
    }
   ],
   "source": [
    "# 상자그림\n",
    "\n",
    "green_diamond = dict(markerfacecolor='g', marker='D')\n",
    "plt.boxplot(data['ppr'], vert=False, flierprops=green_diamond)\n",
    "plt.show()"
   ]
  },
  {
   "cell_type": "code",
   "execution_count": 127,
   "metadata": {},
   "outputs": [
    {
     "name": "stdout",
     "output_type": "stream",
     "text": [
      "ppr의 OL =  10.0\n",
      "ppr의 OU =  80.0\n",
      "극단 이상치 개수 :  3072\n"
     ]
    }
   ],
   "source": [
    "# OL, OU 구하기\n",
    "\n",
    "m = data['ppr'].median() # 중위수\n",
    "q1 = data['ppr'].describe()['25%'] # sbp의 q1\n",
    "q3 = data['ppr'].describe()['75%'] # sbp의 q3\n",
    "iqr = q3 - q1 # sbp의 iqr\n",
    "\n",
    "ppr_ol = q1 - 3 * iqr\n",
    "ppr_ou = q3 + 3 * iqr\n",
    "\n",
    "print('ppr의 OL = ', ppr_ol)\n",
    "print('ppr의 OU = ', ppr_ou)\n",
    "\n",
    "# 이상치 개수\n",
    "\n",
    "num1 = data[data['ppr'] < ppr_ol].count()['ppr']\n",
    "num2 = data[data['ppr'] > ppr_ou].count()['ppr']\n",
    "\n",
    "ppr_sum = num1+num2\n",
    "print('극단 이상치 개수 : ', ppr_sum)"
   ]
  },
  {
   "cell_type": "markdown",
   "metadata": {},
   "source": [
    "### 6. 이상치 제거"
   ]
  },
  {
   "cell_type": "code",
   "execution_count": 128,
   "metadata": {},
   "outputs": [
    {
     "data": {
      "text/plain": [
       "(998561, 10)"
      ]
     },
     "execution_count": 128,
     "metadata": {},
     "output_type": "execute_result"
    }
   ],
   "source": [
    "# dbp 이상치 제거\n",
    "\n",
    "dbp_idx = data[data['dbp'] < dbp_ol].index  \n",
    "data1 = data.drop(dbp_idx)\n",
    "dbp_idx2 = data1[data1['dbp'] > dbp_ou].index\n",
    "data1 = data1.drop(dbp_idx2)\n",
    "data1.shape"
   ]
  },
  {
   "cell_type": "code",
   "execution_count": 129,
   "metadata": {},
   "outputs": [
    {
     "data": {
      "text/plain": [
       "(971972, 10)"
      ]
     },
     "execution_count": 129,
     "metadata": {},
     "output_type": "execute_result"
    }
   ],
   "source": [
    "# fbs 이상치 제거\n",
    "\n",
    "fbs_idx = data1[data1['fbs'] < fbs_ol].index  \n",
    "data2 = data1.drop(fbs_idx)\n",
    "fbs_idx2 = data2[data2['fbs'] > fbs_ou].index\n",
    "data2 = data2.drop(fbs_idx2)\n",
    "data2.shape"
   ]
  },
  {
   "cell_type": "code",
   "execution_count": 130,
   "metadata": {},
   "outputs": [
    {
     "data": {
      "text/plain": [
       "(971602, 10)"
      ]
     },
     "execution_count": 130,
     "metadata": {},
     "output_type": "execute_result"
    }
   ],
   "source": [
    "# bmi 이상치 제거\n",
    "\n",
    "bmi_idx = data2[data2['bmi'] < bmi_ol].index  \n",
    "data3 = data2.drop(bmi_idx)\n",
    "bmi_idx2 = data3[data3['bmi'] > bmi_ou].index\n",
    "data3 = data3.drop(bmi_idx2)\n",
    "data3.shape"
   ]
  },
  {
   "cell_type": "code",
   "execution_count": 131,
   "metadata": {},
   "outputs": [
    {
     "data": {
      "text/plain": [
       "(968773, 10)"
      ]
     },
     "execution_count": 131,
     "metadata": {},
     "output_type": "execute_result"
    }
   ],
   "source": [
    "# ppr 이상치 제거\n",
    "\n",
    "ppr_idx = data3[data3['ppr'] < ppr_ol].index  \n",
    "data4 = data3.drop(ppr_idx)\n",
    "ppr_idx2 = data4[data4['ppr'] > ppr_ou].index\n",
    "data4 = data4.drop(ppr_idx2)\n",
    "data4.shape"
   ]
  },
  {
   "cell_type": "code",
   "execution_count": 132,
   "metadata": {},
   "outputs": [],
   "source": [
    "data4.to_csv('htn_dm2.csv', index = False)"
   ]
  }
 ],
 "metadata": {
  "interpreter": {
   "hash": "827b08cd85705fb7eacc355613fa32419a79164459a55411a432bdabc8adad52"
  },
  "kernelspec": {
   "display_name": "Python 3.8.5 64-bit ('base': conda)",
   "language": "python",
   "name": "python3"
  },
  "language_info": {
   "codemirror_mode": {
    "name": "ipython",
    "version": 3
   },
   "file_extension": ".py",
   "mimetype": "text/x-python",
   "name": "python",
   "nbconvert_exporter": "python",
   "pygments_lexer": "ipython3",
   "version": "3.8.5"
  },
  "orig_nbformat": 4
 },
 "nbformat": 4,
 "nbformat_minor": 2
}
