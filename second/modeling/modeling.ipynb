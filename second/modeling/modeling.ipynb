{
 "cells": [
  {
   "cell_type": "markdown",
   "metadata": {},
   "source": [
    "1. Logistic Regression\n",
    "2. Decision Tree\n",
    "3. Random Forest\n",
    "4. LightGBM\n",
    "5. 4개의 모델 결과 비교"
   ]
  },
  {
   "cell_type": "code",
   "execution_count": 1,
   "metadata": {},
   "outputs": [
    {
     "data": {
      "text/html": [
       "<div>\n",
       "<style scoped>\n",
       "    .dataframe tbody tr th:only-of-type {\n",
       "        vertical-align: middle;\n",
       "    }\n",
       "\n",
       "    .dataframe tbody tr th {\n",
       "        vertical-align: top;\n",
       "    }\n",
       "\n",
       "    .dataframe thead th {\n",
       "        text-align: right;\n",
       "    }\n",
       "</style>\n",
       "<table border=\"1\" class=\"dataframe\">\n",
       "  <thead>\n",
       "    <tr style=\"text-align: right;\">\n",
       "      <th></th>\n",
       "      <th>sex</th>\n",
       "      <th>age</th>\n",
       "      <th>sbp</th>\n",
       "      <th>dbp</th>\n",
       "      <th>fbs</th>\n",
       "      <th>dis</th>\n",
       "      <th>bmi</th>\n",
       "      <th>ppr</th>\n",
       "      <th>htn</th>\n",
       "      <th>dm</th>\n",
       "    </tr>\n",
       "  </thead>\n",
       "  <tbody>\n",
       "    <tr>\n",
       "      <th>0</th>\n",
       "      <td>1</td>\n",
       "      <td>1</td>\n",
       "      <td>116</td>\n",
       "      <td>78</td>\n",
       "      <td>94</td>\n",
       "      <td>4</td>\n",
       "      <td>16.6</td>\n",
       "      <td>38</td>\n",
       "      <td>0</td>\n",
       "      <td>0</td>\n",
       "    </tr>\n",
       "    <tr>\n",
       "      <th>1</th>\n",
       "      <td>1</td>\n",
       "      <td>1</td>\n",
       "      <td>100</td>\n",
       "      <td>60</td>\n",
       "      <td>79</td>\n",
       "      <td>4</td>\n",
       "      <td>22.3</td>\n",
       "      <td>40</td>\n",
       "      <td>0</td>\n",
       "      <td>0</td>\n",
       "    </tr>\n",
       "    <tr>\n",
       "      <th>2</th>\n",
       "      <td>1</td>\n",
       "      <td>1</td>\n",
       "      <td>100</td>\n",
       "      <td>60</td>\n",
       "      <td>87</td>\n",
       "      <td>4</td>\n",
       "      <td>21.9</td>\n",
       "      <td>40</td>\n",
       "      <td>0</td>\n",
       "      <td>0</td>\n",
       "    </tr>\n",
       "    <tr>\n",
       "      <th>3</th>\n",
       "      <td>1</td>\n",
       "      <td>1</td>\n",
       "      <td>111</td>\n",
       "      <td>70</td>\n",
       "      <td>72</td>\n",
       "      <td>4</td>\n",
       "      <td>20.2</td>\n",
       "      <td>41</td>\n",
       "      <td>0</td>\n",
       "      <td>0</td>\n",
       "    </tr>\n",
       "    <tr>\n",
       "      <th>4</th>\n",
       "      <td>1</td>\n",
       "      <td>1</td>\n",
       "      <td>120</td>\n",
       "      <td>80</td>\n",
       "      <td>98</td>\n",
       "      <td>4</td>\n",
       "      <td>20.0</td>\n",
       "      <td>40</td>\n",
       "      <td>0</td>\n",
       "      <td>0</td>\n",
       "    </tr>\n",
       "  </tbody>\n",
       "</table>\n",
       "</div>"
      ],
      "text/plain": [
       "   sex  age  sbp  dbp  fbs  dis   bmi  ppr  htn  dm\n",
       "0    1    1  116   78   94    4  16.6   38    0   0\n",
       "1    1    1  100   60   79    4  22.3   40    0   0\n",
       "2    1    1  100   60   87    4  21.9   40    0   0\n",
       "3    1    1  111   70   72    4  20.2   41    0   0\n",
       "4    1    1  120   80   98    4  20.0   40    0   0"
      ]
     },
     "execution_count": 1,
     "metadata": {},
     "output_type": "execute_result"
    }
   ],
   "source": [
    "data = pd.read_csv('htn_dm2.csv')\n",
    "data.head()"
   ]
  },
  {
   "cell_type": "code",
   "execution_count": 2,
   "metadata": {},
   "outputs": [
    {
     "data": {
      "text/plain": [
       "(968773, 10)"
      ]
     },
     "execution_count": 2,
     "metadata": {},
     "output_type": "execute_result"
    }
   ],
   "source": [
    "data.shape"
   ]
  },
  {
   "cell_type": "code",
   "execution_count": 3,
   "metadata": {},
   "outputs": [],
   "source": [
    "features = data[['sex','age','fbs','bmi','ppr']]\n",
    "y = data['htn']"
   ]
  },
  {
   "cell_type": "code",
   "execution_count": 4,
   "metadata": {},
   "outputs": [
    {
     "name": "stdout",
     "output_type": "stream",
     "text": [
      "train data :  (678141, 5) (678141,)\n",
      "test data :  (290632, 5) (290632,)\n"
     ]
    }
   ],
   "source": [
    "from sklearn.model_selection import train_test_split\n",
    "\n",
    "x_train, x_test, y_train, y_test = train_test_split(features, y, test_size=0.3, stratify = y, random_state= 2045)\n",
    "\n",
    "print('train data : ', x_train.shape, y_train.shape)\n",
    "print('test data : ', x_test.shape, y_test.shape)"
   ]
  },
  {
   "cell_type": "code",
   "execution_count": 5,
   "metadata": {},
   "outputs": [
    {
     "name": "stdout",
     "output_type": "stream",
     "text": [
      "(1038624, 5)\n",
      "1    519312\n",
      "0    519312\n",
      "Name: htn, dtype: int64\n"
     ]
    }
   ],
   "source": [
    "from imblearn.combine._smote_tomek import SMOTETomek\n",
    "\n",
    "x_train_st, y_train_st = SMOTETomek().fit_sample(x_train, y_train)\n",
    "print(x_train_st.shape)\n",
    "print(y_train_st.value_counts())"
   ]
  },
  {
   "cell_type": "markdown",
   "metadata": {},
   "source": [
    "## 1. Logistic Regression"
   ]
  },
  {
   "cell_type": "code",
   "execution_count": 6,
   "metadata": {},
   "outputs": [],
   "source": [
    "from sklearn.preprocessing import StandardScaler\n",
    "scaler = StandardScaler()\n",
    "x_train1 = scaler.fit_transform(x_train_st)\n",
    "x_test1 = scaler.transform(x_test)"
   ]
  },
  {
   "cell_type": "code",
   "execution_count": 7,
   "metadata": {},
   "outputs": [
    {
     "data": {
      "text/plain": [
       "LogisticRegression()"
      ]
     },
     "execution_count": 7,
     "metadata": {},
     "output_type": "execute_result"
    }
   ],
   "source": [
    "from sklearn.linear_model import LogisticRegression\n",
    "\n",
    "model = LogisticRegression()\n",
    "model.fit(x_train1, y_train_st)"
   ]
  },
  {
   "cell_type": "code",
   "execution_count": 8,
   "metadata": {},
   "outputs": [
    {
     "name": "stdout",
     "output_type": "stream",
     "text": [
      "정확도 : 0.76, 정밀도 : 0.45, 재현율 : 0.78\n"
     ]
    }
   ],
   "source": [
    "import numpy as np\n",
    "\n",
    "y_pred = model.predict(x_test1)\n",
    "\n",
    "from sklearn.metrics import accuracy_score, precision_score, recall_score, f1_score\n",
    "\n",
    "accuracy = np.round(accuracy_score(y_test,y_pred), 2)\n",
    "precision = np.round(precision_score(y_test, y_pred,pos_label = 1), 2)\n",
    "recall = np.round(recall_score(y_test, y_pred,pos_label = 1), 2)\n",
    "f1 = np.round(f1_score(y_test, y_pred, pos_label = 1),2)\n",
    "\n",
    "print('정확도 : {0}, 정밀도 : {1}, 재현율 : {2}'.format(accuracy, precision, recall))\n"
   ]
  },
  {
   "cell_type": "code",
   "execution_count": 9,
   "metadata": {},
   "outputs": [],
   "source": [
    "log_ac = accuracy\n",
    "log_pr = precision\n",
    "log_re = recall\n",
    "log_f1 = f1"
   ]
  },
  {
   "cell_type": "markdown",
   "metadata": {},
   "source": [
    "## 2. Decision Tree"
   ]
  },
  {
   "cell_type": "code",
   "execution_count": 10,
   "metadata": {},
   "outputs": [],
   "source": [
    "from sklearn.model_selection import GridSearchCV\n",
    "from sklearn.tree import DecisionTreeClassifier\n",
    "\n",
    "dtree = DecisionTreeClassifier()\n",
    "parameters = {'max_depth':[3,5,7,9,11], 'min_samples_split':[2,4,6,8], 'min_samples_leaf' : [3,5,7,9,11]}"
   ]
  },
  {
   "cell_type": "code",
   "execution_count": 11,
   "metadata": {},
   "outputs": [],
   "source": [
    "grid_dtree = GridSearchCV(dtree, param_grid=parameters, cv=3, refit=True, return_train_score=True)"
   ]
  },
  {
   "cell_type": "code",
   "execution_count": 12,
   "metadata": {},
   "outputs": [
    {
     "data": {
      "text/plain": [
       "GridSearchCV(cv=3, estimator=DecisionTreeClassifier(),\n",
       "             param_grid={'max_depth': [3, 5, 7, 9, 11],\n",
       "                         'min_samples_leaf': [3, 5, 7, 9, 11],\n",
       "                         'min_samples_split': [2, 4, 6, 8]},\n",
       "             return_train_score=True)"
      ]
     },
     "execution_count": 12,
     "metadata": {},
     "output_type": "execute_result"
    }
   ],
   "source": [
    "grid_dtree.fit(x_train_st, y_train_st)"
   ]
  },
  {
   "cell_type": "code",
   "execution_count": 13,
   "metadata": {},
   "outputs": [
    {
     "data": {
      "text/plain": [
       "{'max_depth': 11, 'min_samples_leaf': 3, 'min_samples_split': 6}"
      ]
     },
     "execution_count": 13,
     "metadata": {},
     "output_type": "execute_result"
    }
   ],
   "source": [
    "grid_dtree.best_params_"
   ]
  },
  {
   "cell_type": "code",
   "execution_count": 14,
   "metadata": {},
   "outputs": [
    {
     "name": "stdout",
     "output_type": "stream",
     "text": [
      "정확도 : 0.74, 정밀도 : 0.43, 재현율 : 0.8\n"
     ]
    }
   ],
   "source": [
    "from sklearn.metrics import accuracy_score, precision_score, recall_score\n",
    "\n",
    "pred = grid_dtree.predict(x_test)\n",
    "accuracy_score(y_test, pred)\n",
    "\n",
    "estimator = grid_dtree.best_estimator_\n",
    "pred = estimator.predict(x_test)\n",
    "accuracy = np.round(accuracy_score(y_test,pred), 2)\n",
    "precision = np.round(precision_score(y_test, pred,pos_label = 1), 2)\n",
    "recall = np.round(recall_score(y_test, pred,pos_label = 1), 2)\n",
    "f1 = np.round(f1_score(y_test, pred, pos_label = 1),2)\n",
    "\n",
    "print('정확도 : {0}, 정밀도 : {1}, 재현율 : {2}'.format(accuracy, precision, recall))\n"
   ]
  },
  {
   "cell_type": "code",
   "execution_count": 15,
   "metadata": {},
   "outputs": [],
   "source": [
    "dtree_ac = accuracy\n",
    "dtree_pr = precision\n",
    "dtree_re = recall\n",
    "dtree_f1 = f1"
   ]
  },
  {
   "cell_type": "markdown",
   "metadata": {},
   "source": [
    "## 3. Random Forest"
   ]
  },
  {
   "cell_type": "code",
   "execution_count": 16,
   "metadata": {},
   "outputs": [],
   "source": [
    "from sklearn.ensemble import RandomForestClassifier"
   ]
  },
  {
   "cell_type": "code",
   "execution_count": 17,
   "metadata": {},
   "outputs": [
    {
     "name": "stdout",
     "output_type": "stream",
     "text": [
      "정확도 : 0.74, 정밀도 : 0.44, 재현율 : 0.81\n"
     ]
    }
   ],
   "source": [
    "Model_rf = RandomForestClassifier(max_depth = 10,\n",
    "                                  min_samples_leaf = 5,  \n",
    "                                  min_samples_split = 8,  \n",
    "                                  random_state = 2045,\n",
    "                                  n_jobs = -1)\n",
    "Model_rf.fit(x_train_st, y_train_st)\n",
    "pred_rf = Model_rf.predict(x_test)\n",
    "accuracy = np.round(accuracy_score(y_test,pred_rf), 2)\n",
    "precision = np.round(precision_score(y_test, pred_rf,pos_label = 1), 2)\n",
    "recall = np.round(recall_score(y_test, pred_rf,pos_label = 1), 2)\n",
    "f1 = np.round(f1_score(y_test, pred_rf, pos_label = 1),2)\n",
    "\n",
    "print('정확도 : {0}, 정밀도 : {1}, 재현율 : {2}'.format(accuracy, precision, recall))"
   ]
  },
  {
   "cell_type": "code",
   "execution_count": 18,
   "metadata": {},
   "outputs": [],
   "source": [
    "rf_ac = accuracy\n",
    "rf_pr = precision\n",
    "rf_re = recall\n",
    "rf_f1 = f1"
   ]
  },
  {
   "cell_type": "markdown",
   "metadata": {},
   "source": [
    "## 4. LightGBM"
   ]
  },
  {
   "cell_type": "code",
   "execution_count": 19,
   "metadata": {},
   "outputs": [],
   "source": [
    "from sklearn.metrics import accuracy_score, precision_score, recall_score\n",
    "from sklearn.metrics import f1_score\n",
    "from lightgbm import LGBMClassifier\n",
    "import numpy as np"
   ]
  },
  {
   "cell_type": "code",
   "execution_count": 20,
   "metadata": {},
   "outputs": [
    {
     "data": {
      "text/plain": [
       "LGBMClassifier(boost_from_average=False, max_depth=20, min_child_samples=40,\n",
       "               n_estimators=400, num_leaves=15)"
      ]
     },
     "execution_count": 20,
     "metadata": {},
     "output_type": "execute_result"
    }
   ],
   "source": [
    "model_lgbm = LGBMClassifier(n_estimators=400,num_leaves=15,max_depth=20,min_child_samples=40, n_jobs=-1,boost_from_average=False)\n",
    "model_lgbm.fit(x_train_st, y_train_st)"
   ]
  },
  {
   "cell_type": "code",
   "execution_count": 21,
   "metadata": {},
   "outputs": [],
   "source": [
    "y_pred_lgbm = model_lgbm.predict(x_test)"
   ]
  },
  {
   "cell_type": "code",
   "execution_count": 22,
   "metadata": {},
   "outputs": [
    {
     "name": "stdout",
     "output_type": "stream",
     "text": [
      "정확도 =  0.79\n",
      "정밀도 =  0.5\n",
      "재현율 =  0.66\n",
      "f1 score =  0.57\n"
     ]
    }
   ],
   "source": [
    "print('정확도 = ', np.round(accuracy_score(y_test, y_pred_lgbm),2))\n",
    "print('정밀도 = ',np.round(precision_score(y_test, y_pred_lgbm, pos_label = 1),2))\n",
    "print('재현율 = ', np.round(recall_score(y_test, y_pred_lgbm, pos_label = 1),2))\n",
    "print('f1 score = ', np.round(f1_score(y_test, y_pred_lgbm, pos_label = 1),2))"
   ]
  },
  {
   "cell_type": "code",
   "execution_count": 23,
   "metadata": {},
   "outputs": [],
   "source": [
    "lgbm_ac = np.round(accuracy_score(y_test, y_pred_lgbm),2)\n",
    "lgbm_pr = np.round(precision_score(y_test, y_pred_lgbm, pos_label = 1),2)\n",
    "lgbm_re = np.round(recall_score(y_test, y_pred_lgbm, pos_label = 1),2)\n",
    "lgbm_f1 = np.round(f1_score(y_test, y_pred_lgbm, pos_label = 1),2)"
   ]
  },
  {
   "cell_type": "markdown",
   "metadata": {},
   "source": [
    "## 5. 정확도, 정밀도, 재현율, f1-score 비교"
   ]
  },
  {
   "cell_type": "code",
   "execution_count": 24,
   "metadata": {},
   "outputs": [],
   "source": [
    "import pandas as pd\n",
    "import pandas as pd\n",
    "import seaborn as sns\n",
    "import matplotlib.pyplot as plt\n",
    "import matplotlib as mpl\n"
   ]
  },
  {
   "cell_type": "code",
   "execution_count": 27,
   "metadata": {},
   "outputs": [],
   "source": [
    "list_ac = [log_ac, dtree_ac, rf_ac, lgbm_ac]\n",
    "list_pr = [log_pr, dtree_pr, rf_pr, lgbm_pr]\n",
    "list_rer = [log_re, dtree_re, rf_re, lgbm_re]\n",
    "list_f1 = [log_f1, dtree_f1, rf_f1, lgbm_f1]"
   ]
  },
  {
   "cell_type": "code",
   "execution_count": 25,
   "metadata": {},
   "outputs": [],
   "source": [
    "x_list = ['logistic', 'decision_tree', 'random_forest', 'lgbm']"
   ]
  },
  {
   "cell_type": "code",
   "execution_count": 28,
   "metadata": {},
   "outputs": [
    {
     "data": {
      "text/plain": [
       "<matplotlib.legend.Legend at 0x27f01d47c10>"
      ]
     },
     "execution_count": 28,
     "metadata": {},
     "output_type": "execute_result"
    },
    {
     "data": {
      "image/png": "[encoded data removed]",
      "text/plain": [
       "<Figure size 432x288 with 1 Axes>"
      ]
     },
     "metadata": {
      "needs_background": "light"
     },
     "output_type": "display_data"
    }
   ],
   "source": [
    "plt.plot(x_list, list_ac, marker='s',color='b',label='accuracy')\t\n",
    "plt.plot(x_list, list_pr, marker='h',color='c', label='precision')\n",
    "plt.plot(x_list, list_rer, marker='v',color='g', label='recall')\n",
    "plt.plot(x_list, list_f1, marker='v',color='r', label='f1_score')\n",
    "plt.legend()\n",
    "#plt.savefig('result.png')"
   ]
  }
 ],
 "metadata": {
  "interpreter": {
   "hash": "827b08cd85705fb7eacc355613fa32419a79164459a55411a432bdabc8adad52"
  },
  "kernelspec": {
   "display_name": "Python 3.8.5 64-bit ('base': conda)",
   "language": "python",
   "name": "python3"
  },
  "language_info": {
   "codemirror_mode": {
    "name": "ipython",
    "version": 3
   },
   "file_extension": ".py",
   "mimetype": "text/x-python",
   "name": "python",
   "nbconvert_exporter": "python",
   "pygments_lexer": "ipython3",
   "version": "3.8.5"
  },
  "orig_nbformat": 4
 },
 "nbformat": 4,
 "nbformat_minor": 2
}
