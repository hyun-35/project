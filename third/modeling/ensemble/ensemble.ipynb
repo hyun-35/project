{
 "cells": [
  {
   "cell_type": "markdown",
   "id": "6abb7a59",
   "metadata": {},
   "source": [
    "# -"
   ]
  },
  {
   "cell_type": "code",
   "execution_count": 1,
   "id": "6cba80ec",
   "metadata": {},
   "outputs": [],
   "source": [
    "from tensorflow import keras\n",
    "from tensorflow.keras.models import load_model\n",
    "import matplotlib.pyplot as plt\n",
    "from matplotlib.image import imread\n",
    "import numpy as np\n",
    "from tensorflow.keras import layers, Input\n",
    "from tensorflow.keras.models import Model\n",
    "from tensorflow.keras import optimizers\n",
    "from keras.preprocessing.image import load_img\n",
    "from keras.preprocessing.image import img_to_array\n",
    "from keras.applications.vgg16 import preprocess_input\n",
    "from tensorflow.keras.preprocessing import image\n",
    "from sklearn.metrics import classification_report, confusion_matrix"
   ]
  },
  {
   "cell_type": "code",
   "execution_count": 22,
   "id": "1fd9f3d1",
   "metadata": {},
   "outputs": [],
   "source": [
    "from tensorflow.keras.preprocessing.image import ImageDataGenerator\n",
    "\n",
    "train_dir = 'train'\n",
    "\n",
    "train_datagen = ImageDataGenerator(rescale = 1./255,\n",
    "                                   rotation_range = 30, \n",
    "                                   #width_shift_range = 0.2,\n",
    "                                   #height_shift_range = 0.2,\n",
    "                                   shear_range = 0.1,\n",
    "                                   zoom_range = 0.1,  \n",
    "                                   horizontal_flip=True,\n",
    "                                   #vertical_flip = True,\n",
    "                                   fill_mode = 'nearest')"
   ]
  },
  {
   "cell_type": "code",
   "execution_count": 16,
   "id": "a7167bbf",
   "metadata": {},
   "outputs": [
    {
     "name": "stdout",
     "output_type": "stream",
     "text": [
      "Found 4800 images belonging to 6 classes.\n"
     ]
    }
   ],
   "source": [
    "from tensorflow.keras.preprocessing.image import ImageDataGenerator\n",
    "\n",
    "valid_dir = 'validation'\n",
    "\n",
    "valid_datagen = ImageDataGenerator(rescale = 1./255)\n",
    "\n",
    "valid_generator = valid_datagen.flow_from_directory(\n",
    "                 valid_dir,\n",
    "                 target_size = (275, 205),\n",
    "                 batch_size = 32,\n",
    "                 class_mode = 'categorical',\n",
    "                 shuffle = False)"
   ]
  },
  {
   "cell_type": "code",
   "execution_count": 17,
   "id": "35239140",
   "metadata": {},
   "outputs": [
    {
     "name": "stdout",
     "output_type": "stream",
     "text": [
      "Found 7200 images belonging to 6 classes.\n"
     ]
    }
   ],
   "source": [
    "from tensorflow.keras.preprocessing.image import ImageDataGenerator\n",
    "\n",
    "test_dir = 'test'\n",
    "\n",
    "test_datagen = ImageDataGenerator(rescale = 1./255)\n",
    "\n",
    "test_generator = test_datagen.flow_from_directory(\n",
    "                 test_dir,\n",
    "                 target_size = (275, 205),\n",
    "                 batch_size = 32,\n",
    "                 class_mode = 'categorical',\n",
    "                 shuffle = False)"
   ]
  },
  {
   "cell_type": "code",
   "execution_count": 18,
   "id": "fc0c1b41",
   "metadata": {},
   "outputs": [],
   "source": [
    "vgg = load_model('/vgg.h5')\n",
    "resnet = load_model('/resnet.h5')\n",
    "xception = load_model('/Xception.h5')\n",
    "alexnet = load_model('/alexnet.h5')"
   ]
  },
  {
   "cell_type": "code",
   "execution_count": 34,
   "id": "10aa24dc",
   "metadata": {},
   "outputs": [
    {
     "name": "stdout",
     "output_type": "stream",
     "text": [
      "150/150 [==============================] - 63s 420ms/step - loss: 0.7219 - acc: 0.7533\n",
      "Loss = 0.72194\n",
      "Accuracy = 0.75333\n"
     ]
    }
   ],
   "source": [
    "im_input = Input(shape=(275,205,3))\n",
    "\n",
    "resnet._name = 'test1'\n",
    "vgg._name='test2'\n",
    "xception._name = 'test3'\n",
    "alexnet._name = 'test4'\n",
    "\n",
    "x1 = resnet(im_input)\n",
    "x2 = vgg(im_input)\n",
    "x3 = xception(im_input)\n",
    "x4 = alexnet(im_input)\n",
    "\n",
    "merged = keras.layers.Add()([0.3*x1, 0.2*x3, 0.25*x2, 0.25*x4])\n",
    "model3 = Model(im_input, merged)\n",
    "\n",
    "model3.compile(loss = 'categorical_crossentropy',\n",
    "              optimizer = optimizers.Adam(learning_rate=0.0001),\n",
    "              metrics = ['acc'])\n",
    "\n",
    "loss, accuracy = model3.evaluate(valid_generator,\n",
    "                                steps = 150)\n",
    "\n",
    "print('Loss = {:.5f}'.format(loss))\n",
    "print('Accuracy = {:.5f}'.format(accuracy))"
   ]
  },
  {
   "cell_type": "code",
   "execution_count": 36,
   "id": "391dd5ca",
   "metadata": {},
   "outputs": [
    {
     "name": "stdout",
     "output_type": "stream",
     "text": [
      "               precision    recall  f1-score   support\n",
      "\n",
      "        anger       0.73      0.70      0.71       800\n",
      "embarrassment       0.74      0.72      0.73       800\n",
      "        happy       0.92      0.94      0.93       800\n",
      "   neutrality       0.73      0.94      0.82       800\n",
      "          sad       0.81      0.75      0.78       800\n",
      "       unrest       0.56      0.47      0.51       800\n",
      "\n",
      "     accuracy                           0.75      4800\n",
      "    macro avg       0.75      0.75      0.75      4800\n",
      " weighted avg       0.75      0.75      0.75      4800\n",
      "\n"
     ]
    }
   ],
   "source": [
    "valid_generator.reset()\n",
    "\n",
    "Y_pred = model3.predict(valid_generator)\n",
    "y_pred = np.argmax(Y_pred, axis=1)\n",
    "target_names = ['anger', 'embarrassment', 'happy', 'neutrality', 'sad', 'unrest']\n",
    "print(classification_report(valid_generator.classes, y_pred, target_names=target_names))"
   ]
  },
  {
   "cell_type": "code",
   "execution_count": 37,
   "id": "1485c466",
   "metadata": {},
   "outputs": [
    {
     "data": {
      "image/png": "[encoded data removed]",
      "text/plain": [
       "<Figure size 720x432 with 2 Axes>"
      ]
     },
     "metadata": {
      "needs_background": "light"
     },
     "output_type": "display_data"
    }
   ],
   "source": [
    "cm = confusion_matrix(valid_generator.classes, y_pred)\n",
    "plt.figure(figsize=(10,6))\n",
    "label = ['anger', 'embarrassment', 'happy', 'neutrality', 'sad', 'unrest']\n",
    "sns.heatmap(cm, xticklabels=label, yticklabels=label,annot=True, annot_kws={\"size\": 13}, cmap='PuBuGn',fmt=\"g\", linewidths = 0.5)\n",
    "plt.xticks(rotation = 30 )\n",
    "#plt.savefig('/ensemble_cm2.png')"
   ]
  }
 ],
 "metadata": {
  "interpreter": {
   "hash": "827b08cd85705fb7eacc355613fa32419a79164459a55411a432bdabc8adad52"
  },
  "kernelspec": {
   "display_name": "lab02",
   "language": "python",
   "name": "python3"
  },
  "language_info": {
   "codemirror_mode": {
    "name": "ipython",
    "version": 3
   },
   "file_extension": ".py",
   "mimetype": "text/x-python",
   "name": "python",
   "nbconvert_exporter": "python",
   "pygments_lexer": "ipython3",
   "version": "3.8.5"
  }
 },
 "nbformat": 4,
 "nbformat_minor": 5
}
