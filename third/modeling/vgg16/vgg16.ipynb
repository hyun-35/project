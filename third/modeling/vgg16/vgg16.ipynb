{
 "cells": [
  {
   "cell_type": "code",
   "execution_count": 1,
   "metadata": {
    "executionInfo": {
     "elapsed": 2,
     "status": "ok",
     "timestamp": 1636712057683,
     "user": {
      "displayName": "이송현",
      "photoUrl": "https://lh3.googleusercontent.com/a/default-user=s64",
      "userId": "15732782573557340876"
     },
     "user_tz": -540
    },
    "id": "hgUYr06VhXmc"
   },
   "outputs": [],
   "source": [
    "import warnings\n",
    "warnings.filterwarnings('ignore')"
   ]
  },
  {
   "cell_type": "code",
   "execution_count": 2,
   "metadata": {
    "colab": {
     "base_uri": "https://localhost:8080/",
     "height": 35
    },
    "executionInfo": {
     "elapsed": 3702,
     "status": "ok",
     "timestamp": 1636712062782,
     "user": {
      "displayName": "이송현",
      "photoUrl": "https://lh3.googleusercontent.com/a/default-user=s64",
      "userId": "15732782573557340876"
     },
     "user_tz": -540
    },
    "id": "kDlMr2Itk5w9",
    "outputId": "292a3f7b-cb1a-4671-dc36-c6b81e4156d3"
   },
   "outputs": [
    {
     "data": {
      "text/plain": [
       "'2.6.0'"
      ]
     },
     "execution_count": 2,
     "metadata": {},
     "output_type": "execute_result"
    }
   ],
   "source": [
    "import tensorflow\n",
    "\n",
    "tensorflow.__version__"
   ]
  },
  {
   "cell_type": "code",
   "execution_count": 4,
   "metadata": {
    "executionInfo": {
     "elapsed": 236,
     "status": "ok",
     "timestamp": 1636712169788,
     "user": {
      "displayName": "이송현",
      "photoUrl": "https://lh3.googleusercontent.com/a/default-user=s64",
      "userId": "15732782573557340876"
     },
     "user_tz": -540
    },
    "id": "PMyyzZQak8mt"
   },
   "outputs": [],
   "source": [
    "train_dir = 'train' \n",
    "valid_dir = 'validation'"
   ]
  },
  {
   "cell_type": "code",
   "execution_count": 5,
   "metadata": {
    "colab": {
     "base_uri": "https://localhost:8080/"
    },
    "executionInfo": {
     "elapsed": 1214,
     "status": "ok",
     "timestamp": 1636712172523,
     "user": {
      "displayName": "이송현",
      "photoUrl": "https://lh3.googleusercontent.com/a/default-user=s64",
      "userId": "15732782573557340876"
     },
     "user_tz": -540
    },
    "id": "j8CgoGwgk8k1",
    "outputId": "667078e5-45df-4d55-ce35-ca6bb333bcd8"
   },
   "outputs": [
    {
     "name": "stdout",
     "output_type": "stream",
     "text": [
      "Found 12000 images belonging to 6 classes.\n",
      "Found 4800 images belonging to 6 classes.\n"
     ]
    }
   ],
   "source": [
    "from tensorflow.keras.preprocessing.image import ImageDataGenerator\n",
    "\n",
    "train_datagen = ImageDataGenerator(rescale = 1./255,\n",
    "                                   rotation_range = 60, \n",
    "                                   shear_range = 0.2,\n",
    "                                   zoom_range = 0.1, \n",
    "                                   horizontal_flip=True,\n",
    "                                   fill_mode = 'nearest')\n",
    "valid_datagen = ImageDataGenerator(rescale = 1./255)\n",
    "\n",
    "train_generator = train_datagen.flow_from_directory(\n",
    "                  train_dir,\n",
    "                  target_size = (275,205),\n",
    "                  batch_size = 32, \n",
    "                  class_mode = 'categorical') \n",
    "\n",
    "\n",
    "valid_generator = valid_datagen.flow_from_directory(\n",
    "                  valid_dir,\n",
    "                  target_size = (275,205),\n",
    "                  batch_size = 32,\n",
    "                  class_mode = 'categorical')"
   ]
  },
  {
   "cell_type": "code",
   "execution_count": 3,
   "metadata": {
    "colab": {
     "base_uri": "https://localhost:8080/"
    },
    "executionInfo": {
     "elapsed": 7122,
     "status": "ok",
     "timestamp": 1636712194848,
     "user": {
      "displayName": "이송현",
      "photoUrl": "https://lh3.googleusercontent.com/a/default-user=s64",
      "userId": "15732782573557340876"
     },
     "user_tz": -540
    },
    "id": "bCQeXuLSk8i3",
    "outputId": "c782a699-df94-4af1-8135-c37ba9874b18"
   },
   "outputs": [],
   "source": [
    "from tensorflow.keras.applications import VGG16\n",
    "\n",
    "conv_base = VGG16(weights = 'imagenet',\n",
    "                  include_top = False,\n",
    "                  input_shape = (275,205, 3))"
   ]
  },
  {
   "cell_type": "code",
   "execution_count": 7,
   "metadata": {
    "colab": {
     "base_uri": "https://localhost:8080/"
    },
    "executionInfo": {
     "elapsed": 245,
     "status": "ok",
     "timestamp": 1636712197182,
     "user": {
      "displayName": "이송현",
      "photoUrl": "https://lh3.googleusercontent.com/a/default-user=s64",
      "userId": "15732782573557340876"
     },
     "user_tz": -540
    },
    "id": "FFx-l18Pk8g_",
    "outputId": "dd622504-5043-408a-c80a-63961a7f5fbc"
   },
   "outputs": [
    {
     "name": "stdout",
     "output_type": "stream",
     "text": [
      "Model: \"vgg16\"\n",
      "_________________________________________________________________\n",
      "Layer (type)                 Output Shape              Param #   \n",
      "=================================================================\n",
      "input_1 (InputLayer)         [(None, 275, 205, 3)]     0         \n",
      "_________________________________________________________________\n",
      "block1_conv1 (Conv2D)        (None, 275, 205, 64)      1792      \n",
      "_________________________________________________________________\n",
      "block1_conv2 (Conv2D)        (None, 275, 205, 64)      36928     \n",
      "_________________________________________________________________\n",
      "block1_pool (MaxPooling2D)   (None, 137, 102, 64)      0         \n",
      "_________________________________________________________________\n",
      "block2_conv1 (Conv2D)        (None, 137, 102, 128)     73856     \n",
      "_________________________________________________________________\n",
      "block2_conv2 (Conv2D)        (None, 137, 102, 128)     147584    \n",
      "_________________________________________________________________\n",
      "block2_pool (MaxPooling2D)   (None, 68, 51, 128)       0         \n",
      "_________________________________________________________________\n",
      "block3_conv1 (Conv2D)        (None, 68, 51, 256)       295168    \n",
      "_________________________________________________________________\n",
      "block3_conv2 (Conv2D)        (None, 68, 51, 256)       590080    \n",
      "_________________________________________________________________\n",
      "block3_conv3 (Conv2D)        (None, 68, 51, 256)       590080    \n",
      "_________________________________________________________________\n",
      "block3_pool (MaxPooling2D)   (None, 34, 25, 256)       0         \n",
      "_________________________________________________________________\n",
      "block4_conv1 (Conv2D)        (None, 34, 25, 512)       1180160   \n",
      "_________________________________________________________________\n",
      "block4_conv2 (Conv2D)        (None, 34, 25, 512)       2359808   \n",
      "_________________________________________________________________\n",
      "block4_conv3 (Conv2D)        (None, 34, 25, 512)       2359808   \n",
      "_________________________________________________________________\n",
      "block4_pool (MaxPooling2D)   (None, 17, 12, 512)       0         \n",
      "_________________________________________________________________\n",
      "block5_conv1 (Conv2D)        (None, 17, 12, 512)       2359808   \n",
      "_________________________________________________________________\n",
      "block5_conv2 (Conv2D)        (None, 17, 12, 512)       2359808   \n",
      "_________________________________________________________________\n",
      "block5_conv3 (Conv2D)        (None, 17, 12, 512)       2359808   \n",
      "_________________________________________________________________\n",
      "block5_pool (MaxPooling2D)   (None, 8, 6, 512)         0         \n",
      "=================================================================\n",
      "Total params: 14,714,688\n",
      "Trainable params: 14,714,688\n",
      "Non-trainable params: 0\n",
      "_________________________________________________________________\n"
     ]
    }
   ],
   "source": [
    "conv_base.summary()"
   ]
  },
  {
   "cell_type": "code",
   "execution_count": 5,
   "metadata": {},
   "outputs": [
    {
     "name": "stdout",
     "output_type": "stream",
     "text": [
      "conv_base 동결 전 훈련 가능 가중치의 종류: 26\n"
     ]
    }
   ],
   "source": [
    "print('conv_base 동결 전 훈련 가능 가중치의 종류:', len(conv_base.trainable_weights))"
   ]
  },
  {
   "cell_type": "code",
   "execution_count": 6,
   "metadata": {
    "executionInfo": {
     "elapsed": 234,
     "status": "ok",
     "timestamp": 1636712199460,
     "user": {
      "displayName": "이송현",
      "photoUrl": "https://lh3.googleusercontent.com/a/default-user=s64",
      "userId": "15732782573557340876"
     },
     "user_tz": -540
    },
    "id": "5n-K0m9ik8fH"
   },
   "outputs": [],
   "source": [
    "set_trainable = False\n",
    "\n",
    "for layer in conv_base.layers:\n",
    "    if layer.name == 'block4_conv1':\n",
    "        set_trainable = True\n",
    "        \n",
    "    if set_trainable:\n",
    "        layer.trainable = True\n",
    "    else:\n",
    "        layer.trainable = False"
   ]
  },
  {
   "cell_type": "code",
   "execution_count": 9,
   "metadata": {
    "colab": {
     "base_uri": "https://localhost:8080/"
    },
    "executionInfo": {
     "elapsed": 4,
     "status": "ok",
     "timestamp": 1636712200484,
     "user": {
      "displayName": "이송현",
      "photoUrl": "https://lh3.googleusercontent.com/a/default-user=s64",
      "userId": "15732782573557340876"
     },
     "user_tz": -540
    },
    "id": "YBQuX-8Uk8dH",
    "outputId": "a454167c-6669-48df-94f9-10988af8c9d3"
   },
   "outputs": [
    {
     "name": "stdout",
     "output_type": "stream",
     "text": [
      "Model: \"vgg16\"\n",
      "_________________________________________________________________\n",
      "Layer (type)                 Output Shape              Param #   \n",
      "=================================================================\n",
      "input_1 (InputLayer)         [(None, 275, 205, 3)]     0         \n",
      "_________________________________________________________________\n",
      "block1_conv1 (Conv2D)        (None, 275, 205, 64)      1792      \n",
      "_________________________________________________________________\n",
      "block1_conv2 (Conv2D)        (None, 275, 205, 64)      36928     \n",
      "_________________________________________________________________\n",
      "block1_pool (MaxPooling2D)   (None, 137, 102, 64)      0         \n",
      "_________________________________________________________________\n",
      "block2_conv1 (Conv2D)        (None, 137, 102, 128)     73856     \n",
      "_________________________________________________________________\n",
      "block2_conv2 (Conv2D)        (None, 137, 102, 128)     147584    \n",
      "_________________________________________________________________\n",
      "block2_pool (MaxPooling2D)   (None, 68, 51, 128)       0         \n",
      "_________________________________________________________________\n",
      "block3_conv1 (Conv2D)        (None, 68, 51, 256)       295168    \n",
      "_________________________________________________________________\n",
      "block3_conv2 (Conv2D)        (None, 68, 51, 256)       590080    \n",
      "_________________________________________________________________\n",
      "block3_conv3 (Conv2D)        (None, 68, 51, 256)       590080    \n",
      "_________________________________________________________________\n",
      "block3_pool (MaxPooling2D)   (None, 34, 25, 256)       0         \n",
      "_________________________________________________________________\n",
      "block4_conv1 (Conv2D)        (None, 34, 25, 512)       1180160   \n",
      "_________________________________________________________________\n",
      "block4_conv2 (Conv2D)        (None, 34, 25, 512)       2359808   \n",
      "_________________________________________________________________\n",
      "block4_conv3 (Conv2D)        (None, 34, 25, 512)       2359808   \n",
      "_________________________________________________________________\n",
      "block4_pool (MaxPooling2D)   (None, 17, 12, 512)       0         \n",
      "_________________________________________________________________\n",
      "block5_conv1 (Conv2D)        (None, 17, 12, 512)       2359808   \n",
      "_________________________________________________________________\n",
      "block5_conv2 (Conv2D)        (None, 17, 12, 512)       2359808   \n",
      "_________________________________________________________________\n",
      "block5_conv3 (Conv2D)        (None, 17, 12, 512)       2359808   \n",
      "_________________________________________________________________\n",
      "block5_pool (MaxPooling2D)   (None, 8, 6, 512)         0         \n",
      "=================================================================\n",
      "Total params: 14,714,688\n",
      "Trainable params: 12,979,200\n",
      "Non-trainable params: 1,735,488\n",
      "_________________________________________________________________\n"
     ]
    }
   ],
   "source": [
    "conv_base.summary()"
   ]
  },
  {
   "cell_type": "code",
   "execution_count": 10,
   "metadata": {
    "executionInfo": {
     "elapsed": 3,
     "status": "ok",
     "timestamp": 1636712202771,
     "user": {
      "displayName": "이송현",
      "photoUrl": "https://lh3.googleusercontent.com/a/default-user=s64",
      "userId": "15732782573557340876"
     },
     "user_tz": -540
    },
    "id": "01bmXKspllLZ"
   },
   "outputs": [],
   "source": [
    "from tensorflow.keras import models, layers\n",
    "\n",
    "model = models.Sequential(name = 'CNN_VGG16')\n",
    "model.add(conv_base)\n",
    "\n",
    "model.add(layers.Flatten())\n",
    "model.add(layers.Dropout(0.4))\n",
    "model.add(layers.Dense(256, activation = 'relu'))\n",
    "model.add(layers.Dense(6, activation = 'softmax'))"
   ]
  },
  {
   "cell_type": "code",
   "execution_count": 7,
   "metadata": {
    "colab": {
     "base_uri": "https://localhost:8080/"
    },
    "executionInfo": {
     "elapsed": 3,
     "status": "ok",
     "timestamp": 1636712203706,
     "user": {
      "displayName": "이송현",
      "photoUrl": "https://lh3.googleusercontent.com/a/default-user=s64",
      "userId": "15732782573557340876"
     },
     "user_tz": -540
    },
    "id": "4BuCBFY0llHP",
    "outputId": "73dd7c0b-d06d-4e22-b0d5-0a5d0297f0bf"
   },
   "outputs": [
    {
     "name": "stdout",
     "output_type": "stream",
     "text": [
      "conv_base 동결 후 훈련 가능 가중치의 종류: 12\n"
     ]
    }
   ],
   "source": [
    "print('conv_base 동결 후 훈련 가능 가중치의 종류:', len(conv_base.trainable_weights))"
   ]
  },
  {
   "cell_type": "code",
   "execution_count": 12,
   "metadata": {
    "colab": {
     "base_uri": "https://localhost:8080/"
    },
    "executionInfo": {
     "elapsed": 232,
     "status": "ok",
     "timestamp": 1636712205614,
     "user": {
      "displayName": "이송현",
      "photoUrl": "https://lh3.googleusercontent.com/a/default-user=s64",
      "userId": "15732782573557340876"
     },
     "user_tz": -540
    },
    "id": "SCjeeyGJllFd",
    "outputId": "7bc349fe-4f28-4e18-d1c2-4134fd76c39e"
   },
   "outputs": [
    {
     "name": "stdout",
     "output_type": "stream",
     "text": [
      "Model: \"CNN_VGG16\"\n",
      "_________________________________________________________________\n",
      "Layer (type)                 Output Shape              Param #   \n",
      "=================================================================\n",
      "vgg16 (Functional)           (None, 8, 6, 512)         14714688  \n",
      "_________________________________________________________________\n",
      "flatten (Flatten)            (None, 24576)             0         \n",
      "_________________________________________________________________\n",
      "dropout (Dropout)            (None, 24576)             0         \n",
      "_________________________________________________________________\n",
      "dense (Dense)                (None, 256)               6291712   \n",
      "_________________________________________________________________\n",
      "dense_1 (Dense)              (None, 6)                 1542      \n",
      "=================================================================\n",
      "Total params: 21,007,942\n",
      "Trainable params: 19,272,454\n",
      "Non-trainable params: 1,735,488\n",
      "_________________________________________________________________\n"
     ]
    }
   ],
   "source": [
    "model.summary()"
   ]
  },
  {
   "cell_type": "code",
   "execution_count": 15,
   "metadata": {
    "executionInfo": {
     "elapsed": 246,
     "status": "ok",
     "timestamp": 1636712325358,
     "user": {
      "displayName": "이송현",
      "photoUrl": "https://lh3.googleusercontent.com/a/default-user=s64",
      "userId": "15732782573557340876"
     },
     "user_tz": -540
    },
    "id": "i6ag2kxrnNXx"
   },
   "outputs": [],
   "source": [
    "from tensorflow.keras.callbacks import ModelCheckpoint\n",
    "\n",
    "filename = '/{epoch:02d}-{val_loss:.5f}.h5'\n",
    "\n",
    "checkpoint = ModelCheckpoint(filename,          \n",
    "                             monitor='val_loss',  \n",
    "                             verbose=1,           \n",
    "                             save_best_only=True,  \n",
    "                             mode='min'          \n",
    "                            )"
   ]
  },
  {
   "cell_type": "code",
   "execution_count": 16,
   "metadata": {
    "executionInfo": {
     "elapsed": 232,
     "status": "ok",
     "timestamp": 1636712327384,
     "user": {
      "displayName": "이송현",
      "photoUrl": "https://lh3.googleusercontent.com/a/default-user=s64",
      "userId": "15732782573557340876"
     },
     "user_tz": -540
    },
    "id": "ppKMW2I2llDc"
   },
   "outputs": [],
   "source": [
    "from tensorflow.keras import optimizers\n",
    "\n",
    "model.compile(loss = 'categorical_crossentropy',\n",
    "              optimizer = optimizers.Adam(lr = 0.00001),\n",
    "              metrics = ['accuracy'])"
   ]
  },
  {
   "cell_type": "code",
   "execution_count": 17,
   "metadata": {
    "colab": {
     "base_uri": "https://localhost:8080/"
    },
    "executionInfo": {
     "elapsed": 12896785,
     "status": "ok",
     "timestamp": 1636725759663,
     "user": {
      "displayName": "이송현",
      "photoUrl": "https://lh3.googleusercontent.com/a/default-user=s64",
      "userId": "15732782573557340876"
     },
     "user_tz": -540
    },
    "id": "dgmsHpmqllBn",
    "outputId": "1774a08a-9c04-4855-847b-dd8703c8ab43"
   },
   "outputs": [
    {
     "name": "stdout",
     "output_type": "stream",
     "text": [
      "Epoch 1/50\n"
     ]
    },
    {
     "name": "stderr",
     "output_type": "stream",
     "text": [
      "2021-11-15 09:25:37.948942: I tensorflow/stream_executor/platform/default/dso_loader.cc:48] Successfully opened dynamic library libcublas.so.10\n",
      "2021-11-15 09:25:38.679461: I tensorflow/stream_executor/platform/default/dso_loader.cc:48] Successfully opened dynamic library libcudnn.so.7\n"
     ]
    },
    {
     "name": "stdout",
     "output_type": "stream",
     "text": [
      "375/375 [==============================] - ETA: 0s - loss: 1.4744 - accuracy: 0.4069\n",
      "Epoch 00001: val_loss improved from inf to 1.10715, saving model to /home/lab02/01-1.10715.h5\n",
      "375/375 [==============================] - 319s 851ms/step - loss: 1.4744 - accuracy: 0.4069 - val_loss: 1.1071 - val_accuracy: 0.5785\n",
      "Epoch 2/50\n",
      "375/375 [==============================] - ETA: 0s - loss: 1.1097 - accuracy: 0.5789\n",
      "Epoch 00002: val_loss improved from 1.10715 to 0.98747, saving model to /home/lab02/02-0.98747.h5\n",
      "375/375 [==============================] - 307s 817ms/step - loss: 1.1097 - accuracy: 0.5789 - val_loss: 0.9875 - val_accuracy: 0.6252\n",
      "Epoch 3/50\n",
      "375/375 [==============================] - ETA: 0s - loss: 0.9767 - accuracy: 0.6400\n",
      "Epoch 00003: val_loss improved from 0.98747 to 0.92965, saving model to /home/lab02/03-0.92965.h5\n",
      "375/375 [==============================] - 307s 818ms/step - loss: 0.9767 - accuracy: 0.6400 - val_loss: 0.9296 - val_accuracy: 0.6546\n",
      "Epoch 4/50\n",
      "375/375 [==============================] - ETA: 0s - loss: 0.8938 - accuracy: 0.6675\n",
      "Epoch 00004: val_loss improved from 0.92965 to 0.86985, saving model to /home/lab02/04-0.86985.h5\n",
      "375/375 [==============================] - 307s 820ms/step - loss: 0.8938 - accuracy: 0.6675 - val_loss: 0.8698 - val_accuracy: 0.6735\n",
      "Epoch 5/50\n",
      "375/375 [==============================] - ETA: 0s - loss: 0.8369 - accuracy: 0.6892\n",
      "Epoch 00005: val_loss did not improve from 0.86985\n",
      "375/375 [==============================] - 307s 819ms/step - loss: 0.8369 - accuracy: 0.6892 - val_loss: 0.8967 - val_accuracy: 0.6708\n",
      "Epoch 6/50\n",
      "375/375 [==============================] - ETA: 0s - loss: 0.7945 - accuracy: 0.7080\n",
      "Epoch 00006: val_loss improved from 0.86985 to 0.85369, saving model to /home/lab02/06-0.85369.h5\n",
      "375/375 [==============================] - 307s 820ms/step - loss: 0.7945 - accuracy: 0.7080 - val_loss: 0.8537 - val_accuracy: 0.6871\n",
      "Epoch 7/50\n",
      "375/375 [==============================] - ETA: 0s - loss: 0.7648 - accuracy: 0.7234\n",
      "Epoch 00007: val_loss did not improve from 0.85369\n",
      "375/375 [==============================] - 307s 819ms/step - loss: 0.7648 - accuracy: 0.7234 - val_loss: 0.8603 - val_accuracy: 0.6804\n",
      "Epoch 8/50\n",
      "375/375 [==============================] - ETA: 0s - loss: 0.7263 - accuracy: 0.7345\n",
      "Epoch 00008: val_loss did not improve from 0.85369\n",
      "375/375 [==============================] - 306s 817ms/step - loss: 0.7263 - accuracy: 0.7345 - val_loss: 0.8758 - val_accuracy: 0.6888\n",
      "Epoch 9/50\n",
      "375/375 [==============================] - ETA: 0s - loss: 0.7035 - accuracy: 0.7452\n",
      "Epoch 00009: val_loss did not improve from 0.85369\n",
      "375/375 [==============================] - 306s 817ms/step - loss: 0.7035 - accuracy: 0.7452 - val_loss: 0.8571 - val_accuracy: 0.6802\n",
      "Epoch 10/50\n",
      "375/375 [==============================] - ETA: 0s - loss: 0.6830 - accuracy: 0.7555\n",
      "Epoch 00010: val_loss improved from 0.85369 to 0.83881, saving model to /home/lab02/10-0.83881.h5\n",
      "375/375 [==============================] - 307s 818ms/step - loss: 0.6830 - accuracy: 0.7555 - val_loss: 0.8388 - val_accuracy: 0.7004\n",
      "Epoch 11/50\n",
      "375/375 [==============================] - ETA: 0s - loss: 0.6635 - accuracy: 0.7552\n",
      "Epoch 00011: val_loss did not improve from 0.83881\n",
      "375/375 [==============================] - 309s 824ms/step - loss: 0.6635 - accuracy: 0.7552 - val_loss: 0.8738 - val_accuracy: 0.6858\n",
      "Epoch 12/50\n",
      "375/375 [==============================] - ETA: 0s - loss: 0.6398 - accuracy: 0.7703\n",
      "Epoch 00012: val_loss did not improve from 0.83881\n",
      "375/375 [==============================] - 306s 817ms/step - loss: 0.6398 - accuracy: 0.7703 - val_loss: 0.9062 - val_accuracy: 0.6790\n",
      "Epoch 13/50\n",
      "375/375 [==============================] - ETA: 0s - loss: 0.6239 - accuracy: 0.7709\n",
      "Epoch 00013: val_loss did not improve from 0.83881\n",
      "375/375 [==============================] - 306s 817ms/step - loss: 0.6239 - accuracy: 0.7709 - val_loss: 0.8938 - val_accuracy: 0.6881\n",
      "Epoch 14/50\n",
      "375/375 [==============================] - ETA: 0s - loss: 0.6109 - accuracy: 0.7781\n",
      "Epoch 00014: val_loss did not improve from 0.83881\n",
      "375/375 [==============================] - 307s 818ms/step - loss: 0.6109 - accuracy: 0.7781 - val_loss: 0.9002 - val_accuracy: 0.6779\n",
      "Epoch 15/50\n",
      "375/375 [==============================] - ETA: 0s - loss: 0.5892 - accuracy: 0.7872\n",
      "Epoch 00015: val_loss improved from 0.83881 to 0.82768, saving model to /home/lab02/15-0.82768.h5\n",
      "375/375 [==============================] - 311s 830ms/step - loss: 0.5892 - accuracy: 0.7872 - val_loss: 0.8277 - val_accuracy: 0.6992\n",
      "Epoch 16/50\n",
      "375/375 [==============================] - ETA: 0s - loss: 0.5741 - accuracy: 0.7975\n",
      "Epoch 00016: val_loss did not improve from 0.82768\n",
      "375/375 [==============================] - 310s 828ms/step - loss: 0.5741 - accuracy: 0.7975 - val_loss: 0.8986 - val_accuracy: 0.6915\n",
      "Epoch 17/50\n",
      "375/375 [==============================] - ETA: 0s - loss: 0.5641 - accuracy: 0.7950\n",
      "Epoch 00017: val_loss did not improve from 0.82768\n",
      "375/375 [==============================] - 310s 828ms/step - loss: 0.5641 - accuracy: 0.7950 - val_loss: 0.8908 - val_accuracy: 0.7060\n",
      "Epoch 18/50\n",
      "142/375 [==========>...................] - ETA: 2:37 - loss: 0.5404 - accuracy: 0.8041"
     ]
    },
    {
     "ename": "KeyboardInterrupt",
     "evalue": "",
     "output_type": "error",
     "traceback": [
      "\u001b[0;31m---------------------------------------------------------------------------\u001b[0m",
      "\u001b[0;31mKeyboardInterrupt\u001b[0m                         Traceback (most recent call last)",
      "\u001b[0;32m<timed exec>\u001b[0m in \u001b[0;36m<module>\u001b[0;34m\u001b[0m\n",
      "\u001b[0;32m/home/ubuntu/anaconda3/envs/lab02/lib/python3.7/site-packages/tensorflow/python/keras/engine/training.py\u001b[0m in \u001b[0;36m_method_wrapper\u001b[0;34m(self, *args, **kwargs)\u001b[0m\n\u001b[1;32m    101\u001b[0m   \u001b[0;32mdef\u001b[0m \u001b[0m_method_wrapper\u001b[0m\u001b[0;34m(\u001b[0m\u001b[0mself\u001b[0m\u001b[0;34m,\u001b[0m \u001b[0;34m*\u001b[0m\u001b[0margs\u001b[0m\u001b[0;34m,\u001b[0m \u001b[0;34m**\u001b[0m\u001b[0mkwargs\u001b[0m\u001b[0;34m)\u001b[0m\u001b[0;34m:\u001b[0m\u001b[0;34m\u001b[0m\u001b[0m\n\u001b[1;32m    102\u001b[0m     \u001b[0;32mif\u001b[0m \u001b[0;32mnot\u001b[0m \u001b[0mself\u001b[0m\u001b[0;34m.\u001b[0m\u001b[0m_in_multi_worker_mode\u001b[0m\u001b[0;34m(\u001b[0m\u001b[0;34m)\u001b[0m\u001b[0;34m:\u001b[0m  \u001b[0;31m# pylint: disable=protected-access\u001b[0m\u001b[0;34m\u001b[0m\u001b[0m\n\u001b[0;32m--> 103\u001b[0;31m       \u001b[0;32mreturn\u001b[0m \u001b[0mmethod\u001b[0m\u001b[0;34m(\u001b[0m\u001b[0mself\u001b[0m\u001b[0;34m,\u001b[0m \u001b[0;34m*\u001b[0m\u001b[0margs\u001b[0m\u001b[0;34m,\u001b[0m \u001b[0;34m**\u001b[0m\u001b[0mkwargs\u001b[0m\u001b[0;34m)\u001b[0m\u001b[0;34m\u001b[0m\u001b[0m\n\u001b[0m\u001b[1;32m    104\u001b[0m \u001b[0;34m\u001b[0m\u001b[0m\n\u001b[1;32m    105\u001b[0m     \u001b[0;31m# Running inside `run_distribute_coordinator` already.\u001b[0m\u001b[0;34m\u001b[0m\u001b[0;34m\u001b[0m\u001b[0m\n",
      "\u001b[0;32m/home/ubuntu/anaconda3/envs/lab02/lib/python3.7/site-packages/tensorflow/python/keras/engine/training.py\u001b[0m in \u001b[0;36mfit\u001b[0;34m(self, x, y, batch_size, epochs, verbose, callbacks, validation_split, validation_data, shuffle, class_weight, sample_weight, initial_epoch, steps_per_epoch, validation_steps, validation_batch_size, validation_freq, max_queue_size, workers, use_multiprocessing)\u001b[0m\n\u001b[1;32m   1091\u001b[0m                 batch_size=batch_size):\n\u001b[1;32m   1092\u001b[0m               \u001b[0mcallbacks\u001b[0m\u001b[0;34m.\u001b[0m\u001b[0mon_train_batch_begin\u001b[0m\u001b[0;34m(\u001b[0m\u001b[0mstep\u001b[0m\u001b[0;34m)\u001b[0m\u001b[0;34m\u001b[0m\u001b[0m\n\u001b[0;32m-> 1093\u001b[0;31m               \u001b[0mtmp_logs\u001b[0m \u001b[0;34m=\u001b[0m \u001b[0mtrain_function\u001b[0m\u001b[0;34m(\u001b[0m\u001b[0miterator\u001b[0m\u001b[0;34m)\u001b[0m\u001b[0;34m\u001b[0m\u001b[0m\n\u001b[0m\u001b[1;32m   1094\u001b[0m               \u001b[0;32mif\u001b[0m \u001b[0mdata_handler\u001b[0m\u001b[0;34m.\u001b[0m\u001b[0mshould_sync\u001b[0m\u001b[0;34m:\u001b[0m\u001b[0;34m\u001b[0m\u001b[0m\n\u001b[1;32m   1095\u001b[0m                 \u001b[0mcontext\u001b[0m\u001b[0;34m.\u001b[0m\u001b[0masync_wait\u001b[0m\u001b[0;34m(\u001b[0m\u001b[0;34m)\u001b[0m\u001b[0;34m\u001b[0m\u001b[0m\n",
      "\u001b[0;32m/home/ubuntu/anaconda3/envs/lab02/lib/python3.7/site-packages/tensorflow/python/eager/def_function.py\u001b[0m in \u001b[0;36m__call__\u001b[0;34m(self, *args, **kwds)\u001b[0m\n\u001b[1;32m    778\u001b[0m       \u001b[0;32melse\u001b[0m\u001b[0;34m:\u001b[0m\u001b[0;34m\u001b[0m\u001b[0m\n\u001b[1;32m    779\u001b[0m         \u001b[0mcompiler\u001b[0m \u001b[0;34m=\u001b[0m \u001b[0;34m\"nonXla\"\u001b[0m\u001b[0;34m\u001b[0m\u001b[0m\n\u001b[0;32m--> 780\u001b[0;31m         \u001b[0mresult\u001b[0m \u001b[0;34m=\u001b[0m \u001b[0mself\u001b[0m\u001b[0;34m.\u001b[0m\u001b[0m_call\u001b[0m\u001b[0;34m(\u001b[0m\u001b[0;34m*\u001b[0m\u001b[0margs\u001b[0m\u001b[0;34m,\u001b[0m \u001b[0;34m**\u001b[0m\u001b[0mkwds\u001b[0m\u001b[0;34m)\u001b[0m\u001b[0;34m\u001b[0m\u001b[0m\n\u001b[0m\u001b[1;32m    781\u001b[0m \u001b[0;34m\u001b[0m\u001b[0m\n\u001b[1;32m    782\u001b[0m       \u001b[0mnew_tracing_count\u001b[0m \u001b[0;34m=\u001b[0m \u001b[0mself\u001b[0m\u001b[0;34m.\u001b[0m\u001b[0m_get_tracing_count\u001b[0m\u001b[0;34m(\u001b[0m\u001b[0;34m)\u001b[0m\u001b[0;34m\u001b[0m\u001b[0m\n",
      "\u001b[0;32m/home/ubuntu/anaconda3/envs/lab02/lib/python3.7/site-packages/tensorflow/python/eager/def_function.py\u001b[0m in \u001b[0;36m_call\u001b[0;34m(self, *args, **kwds)\u001b[0m\n\u001b[1;32m    805\u001b[0m       \u001b[0;31m# In this case we have created variables on the first call, so we run the\u001b[0m\u001b[0;34m\u001b[0m\u001b[0;34m\u001b[0m\u001b[0m\n\u001b[1;32m    806\u001b[0m       \u001b[0;31m# defunned version which is guaranteed to never create variables.\u001b[0m\u001b[0;34m\u001b[0m\u001b[0;34m\u001b[0m\u001b[0m\n\u001b[0;32m--> 807\u001b[0;31m       \u001b[0;32mreturn\u001b[0m \u001b[0mself\u001b[0m\u001b[0;34m.\u001b[0m\u001b[0m_stateless_fn\u001b[0m\u001b[0;34m(\u001b[0m\u001b[0;34m*\u001b[0m\u001b[0margs\u001b[0m\u001b[0;34m,\u001b[0m \u001b[0;34m**\u001b[0m\u001b[0mkwds\u001b[0m\u001b[0;34m)\u001b[0m  \u001b[0;31m# pylint: disable=not-callable\u001b[0m\u001b[0;34m\u001b[0m\u001b[0m\n\u001b[0m\u001b[1;32m    808\u001b[0m     \u001b[0;32melif\u001b[0m \u001b[0mself\u001b[0m\u001b[0;34m.\u001b[0m\u001b[0m_stateful_fn\u001b[0m \u001b[0;32mis\u001b[0m \u001b[0;32mnot\u001b[0m \u001b[0;32mNone\u001b[0m\u001b[0;34m:\u001b[0m\u001b[0;34m\u001b[0m\u001b[0m\n\u001b[1;32m    809\u001b[0m       \u001b[0;31m# Release the lock early so that multiple threads can perform the call\u001b[0m\u001b[0;34m\u001b[0m\u001b[0;34m\u001b[0m\u001b[0m\n",
      "\u001b[0;32m/home/ubuntu/anaconda3/envs/lab02/lib/python3.7/site-packages/tensorflow/python/eager/function.py\u001b[0m in \u001b[0;36m__call__\u001b[0;34m(self, *args, **kwargs)\u001b[0m\n\u001b[1;32m   2827\u001b[0m     \u001b[0;32mwith\u001b[0m \u001b[0mself\u001b[0m\u001b[0;34m.\u001b[0m\u001b[0m_lock\u001b[0m\u001b[0;34m:\u001b[0m\u001b[0;34m\u001b[0m\u001b[0m\n\u001b[1;32m   2828\u001b[0m       \u001b[0mgraph_function\u001b[0m\u001b[0;34m,\u001b[0m \u001b[0margs\u001b[0m\u001b[0;34m,\u001b[0m \u001b[0mkwargs\u001b[0m \u001b[0;34m=\u001b[0m \u001b[0mself\u001b[0m\u001b[0;34m.\u001b[0m\u001b[0m_maybe_define_function\u001b[0m\u001b[0;34m(\u001b[0m\u001b[0margs\u001b[0m\u001b[0;34m,\u001b[0m \u001b[0mkwargs\u001b[0m\u001b[0;34m)\u001b[0m\u001b[0;34m\u001b[0m\u001b[0m\n\u001b[0;32m-> 2829\u001b[0;31m     \u001b[0;32mreturn\u001b[0m \u001b[0mgraph_function\u001b[0m\u001b[0;34m.\u001b[0m\u001b[0m_filtered_call\u001b[0m\u001b[0;34m(\u001b[0m\u001b[0margs\u001b[0m\u001b[0;34m,\u001b[0m \u001b[0mkwargs\u001b[0m\u001b[0;34m)\u001b[0m  \u001b[0;31m# pylint: disable=protected-access\u001b[0m\u001b[0;34m\u001b[0m\u001b[0m\n\u001b[0m\u001b[1;32m   2830\u001b[0m \u001b[0;34m\u001b[0m\u001b[0m\n\u001b[1;32m   2831\u001b[0m   \u001b[0;34m@\u001b[0m\u001b[0mproperty\u001b[0m\u001b[0;34m\u001b[0m\u001b[0m\n",
      "\u001b[0;32m/home/ubuntu/anaconda3/envs/lab02/lib/python3.7/site-packages/tensorflow/python/eager/function.py\u001b[0m in \u001b[0;36m_filtered_call\u001b[0;34m(self, args, kwargs, cancellation_manager)\u001b[0m\n\u001b[1;32m   1846\u001b[0m                            resource_variable_ops.BaseResourceVariable))],\n\u001b[1;32m   1847\u001b[0m         \u001b[0mcaptured_inputs\u001b[0m\u001b[0;34m=\u001b[0m\u001b[0mself\u001b[0m\u001b[0;34m.\u001b[0m\u001b[0mcaptured_inputs\u001b[0m\u001b[0;34m,\u001b[0m\u001b[0;34m\u001b[0m\u001b[0m\n\u001b[0;32m-> 1848\u001b[0;31m         cancellation_manager=cancellation_manager)\n\u001b[0m\u001b[1;32m   1849\u001b[0m \u001b[0;34m\u001b[0m\u001b[0m\n\u001b[1;32m   1850\u001b[0m   \u001b[0;32mdef\u001b[0m \u001b[0m_call_flat\u001b[0m\u001b[0;34m(\u001b[0m\u001b[0mself\u001b[0m\u001b[0;34m,\u001b[0m \u001b[0margs\u001b[0m\u001b[0;34m,\u001b[0m \u001b[0mcaptured_inputs\u001b[0m\u001b[0;34m,\u001b[0m \u001b[0mcancellation_manager\u001b[0m\u001b[0;34m=\u001b[0m\u001b[0;32mNone\u001b[0m\u001b[0;34m)\u001b[0m\u001b[0;34m:\u001b[0m\u001b[0;34m\u001b[0m\u001b[0m\n",
      "\u001b[0;32m/home/ubuntu/anaconda3/envs/lab02/lib/python3.7/site-packages/tensorflow/python/eager/function.py\u001b[0m in \u001b[0;36m_call_flat\u001b[0;34m(self, args, captured_inputs, cancellation_manager)\u001b[0m\n\u001b[1;32m   1922\u001b[0m       \u001b[0;31m# No tape is watching; skip to running the function.\u001b[0m\u001b[0;34m\u001b[0m\u001b[0;34m\u001b[0m\u001b[0m\n\u001b[1;32m   1923\u001b[0m       return self._build_call_outputs(self._inference_function.call(\n\u001b[0;32m-> 1924\u001b[0;31m           ctx, args, cancellation_manager=cancellation_manager))\n\u001b[0m\u001b[1;32m   1925\u001b[0m     forward_backward = self._select_forward_and_backward_functions(\n\u001b[1;32m   1926\u001b[0m         \u001b[0margs\u001b[0m\u001b[0;34m,\u001b[0m\u001b[0;34m\u001b[0m\u001b[0m\n",
      "\u001b[0;32m/home/ubuntu/anaconda3/envs/lab02/lib/python3.7/site-packages/tensorflow/python/eager/function.py\u001b[0m in \u001b[0;36mcall\u001b[0;34m(self, ctx, args, cancellation_manager)\u001b[0m\n\u001b[1;32m    548\u001b[0m               \u001b[0minputs\u001b[0m\u001b[0;34m=\u001b[0m\u001b[0margs\u001b[0m\u001b[0;34m,\u001b[0m\u001b[0;34m\u001b[0m\u001b[0m\n\u001b[1;32m    549\u001b[0m               \u001b[0mattrs\u001b[0m\u001b[0;34m=\u001b[0m\u001b[0mattrs\u001b[0m\u001b[0;34m,\u001b[0m\u001b[0;34m\u001b[0m\u001b[0m\n\u001b[0;32m--> 550\u001b[0;31m               ctx=ctx)\n\u001b[0m\u001b[1;32m    551\u001b[0m         \u001b[0;32melse\u001b[0m\u001b[0;34m:\u001b[0m\u001b[0;34m\u001b[0m\u001b[0m\n\u001b[1;32m    552\u001b[0m           outputs = execute.execute_with_cancellation(\n",
      "\u001b[0;32m/home/ubuntu/anaconda3/envs/lab02/lib/python3.7/site-packages/tensorflow/python/eager/execute.py\u001b[0m in \u001b[0;36mquick_execute\u001b[0;34m(op_name, num_outputs, inputs, attrs, ctx, name)\u001b[0m\n\u001b[1;32m     58\u001b[0m     \u001b[0mctx\u001b[0m\u001b[0;34m.\u001b[0m\u001b[0mensure_initialized\u001b[0m\u001b[0;34m(\u001b[0m\u001b[0;34m)\u001b[0m\u001b[0;34m\u001b[0m\u001b[0m\n\u001b[1;32m     59\u001b[0m     tensors = pywrap_tfe.TFE_Py_Execute(ctx._handle, device_name, op_name,\n\u001b[0;32m---> 60\u001b[0;31m                                         inputs, attrs, num_outputs)\n\u001b[0m\u001b[1;32m     61\u001b[0m   \u001b[0;32mexcept\u001b[0m \u001b[0mcore\u001b[0m\u001b[0;34m.\u001b[0m\u001b[0m_NotOkStatusException\u001b[0m \u001b[0;32mas\u001b[0m \u001b[0me\u001b[0m\u001b[0;34m:\u001b[0m\u001b[0;34m\u001b[0m\u001b[0m\n\u001b[1;32m     62\u001b[0m     \u001b[0;32mif\u001b[0m \u001b[0mname\u001b[0m \u001b[0;32mis\u001b[0m \u001b[0;32mnot\u001b[0m \u001b[0;32mNone\u001b[0m\u001b[0;34m:\u001b[0m\u001b[0;34m\u001b[0m\u001b[0m\n",
      "\u001b[0;31mKeyboardInterrupt\u001b[0m: "
     ]
    }
   ],
   "source": [
    "%%time\n",
    "\n",
    "face = model.fit(train_generator,\n",
    "                epochs = 50,\n",
    "                validation_data = valid_generator,\n",
    "                validation_steps = 150,\n",
    "                callbacks = [checkpoint])"
   ]
  }
 ],
 "metadata": {
  "accelerator": "GPU",
  "colab": {
   "authorship_tag": "ABX9TyOvskzHjfVF1ZMneJ9C+yaK",
   "collapsed_sections": [],
   "name": "vgg16_2000_32.ipynb",
   "provenance": []
  },
  "interpreter": {
   "hash": "827b08cd85705fb7eacc355613fa32419a79164459a55411a432bdabc8adad52"
  },
  "kernelspec": {
   "display_name": "lab02",
   "language": "python",
   "name": "python3"
  },
  "language_info": {
   "codemirror_mode": {
    "name": "ipython",
    "version": 3
   },
   "file_extension": ".py",
   "mimetype": "text/x-python",
   "name": "python",
   "nbconvert_exporter": "python",
   "pygments_lexer": "ipython3",
   "version": "3.8.5"
  }
 },
 "nbformat": 4,
 "nbformat_minor": 1
}
