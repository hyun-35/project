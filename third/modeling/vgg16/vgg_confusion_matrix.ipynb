{
 "cells": [
  {
   "cell_type": "code",
   "execution_count": 6,
   "metadata": {},
   "outputs": [],
   "source": [
    "from tensorflow import keras\n",
    "from tensorflow.keras.models import load_model\n",
    "import matplotlib.pyplot as plt\n",
    "from matplotlib.image import imread\n",
    "import numpy as np\n",
    "import seaborn as sns\n",
    "from tensorflow.keras import optimizers"
   ]
  },
  {
   "cell_type": "code",
   "execution_count": 7,
   "metadata": {},
   "outputs": [],
   "source": [
    "model = load_model('/10_0.83881.h5')"
   ]
  },
  {
   "cell_type": "code",
   "execution_count": 8,
   "metadata": {},
   "outputs": [
    {
     "name": "stdout",
     "output_type": "stream",
     "text": [
      "Found 4800 images belonging to 6 classes.\n"
     ]
    }
   ],
   "source": [
    "from tensorflow.keras.preprocessing.image import ImageDataGenerator\n",
    "\n",
    "valid_dir = 'validation'\n",
    "\n",
    "test_datagen = ImageDataGenerator(rescale = 1./255)\n",
    "\n",
    "test_generator = test_datagen.flow_from_directory(\n",
    "                 valid_dir,\n",
    "                 target_size = (275, 205),\n",
    "                 batch_size = 32,\n",
    "                 class_mode = 'categorical',\n",
    "                 shuffle = False)"
   ]
  },
  {
   "cell_type": "code",
   "execution_count": 9,
   "metadata": {},
   "outputs": [
    {
     "name": "stdout",
     "output_type": "stream",
     "text": [
      "150/150 [==============================] - 1367s 9s/step - loss: 0.8389 - accuracy: 0.7002\n",
      "Loss = 0.83891\n",
      "Accuracy = 0.70021\n"
     ]
    }
   ],
   "source": [
    "loss, accuracy = model.evaluate(test_generator,\n",
    "                                steps = 150)\n",
    "\n",
    "print('Loss = {:.5f}'.format(loss))\n",
    "print('Accuracy = {:.5f}'.format(accuracy))"
   ]
  },
  {
   "cell_type": "code",
   "execution_count": 4,
   "metadata": {},
   "outputs": [
    {
     "name": "stdout",
     "output_type": "stream",
     "text": [
      "Classification Report\n",
      "               precision    recall  f1-score   support\n",
      "\n",
      "        anger       0.74      0.60      0.66       800\n",
      "embarrassment       0.74      0.67      0.70       800\n",
      "        happy       0.87      0.94      0.90       800\n",
      "   neutrality       0.64      0.89      0.75       800\n",
      "          sad       0.71      0.71      0.71       800\n",
      "       unrest       0.48      0.40      0.43       800\n",
      "\n",
      "     accuracy                           0.70      4800\n",
      "    macro avg       0.70      0.70      0.69      4800\n",
      " weighted avg       0.70      0.70      0.69      4800\n",
      "\n"
     ]
    }
   ],
   "source": [
    "from sklearn.metrics import classification_report, confusion_matrix\n",
    "import numpy as np\n",
    "\n",
    "test_generator.reset()\n",
    "\n",
    "Y_pred = model.predict(test_generator)\n",
    "y_pred = np.argmax(Y_pred, axis=1)\n",
    "print('Classification Report')\n",
    "target_names = ['anger', 'embarrassment', 'happy', 'neutrality', 'sad', 'unrest']\n",
    "print(classification_report(test_generator.classes, y_pred, target_names=target_names))"
   ]
  },
  {
   "cell_type": "code",
   "execution_count": 9,
   "metadata": {},
   "outputs": [],
   "source": [
    "test_generator.reset()\n",
    "\n",
    "Y_pred = model.predict(test_generator)"
   ]
  },
  {
   "cell_type": "code",
   "execution_count": 10,
   "metadata": {},
   "outputs": [],
   "source": [
    "y_pred = np.argmax(Y_pred, axis=1)"
   ]
  },
  {
   "cell_type": "code",
   "execution_count": 19,
   "metadata": {},
   "outputs": [],
   "source": [
    "import pandas as pd"
   ]
  },
  {
   "cell_type": "code",
   "execution_count": 20,
   "metadata": {},
   "outputs": [
    {
     "data": {
      "text/html": [
       "<div>\n",
       "<style scoped>\n",
       "    .dataframe tbody tr th:only-of-type {\n",
       "        vertical-align: middle;\n",
       "    }\n",
       "\n",
       "    .dataframe tbody tr th {\n",
       "        vertical-align: top;\n",
       "    }\n",
       "\n",
       "    .dataframe thead th {\n",
       "        text-align: right;\n",
       "    }\n",
       "</style>\n",
       "<table border=\"1\" class=\"dataframe\">\n",
       "  <thead>\n",
       "    <tr style=\"text-align: right;\">\n",
       "      <th></th>\n",
       "      <th>anger</th>\n",
       "      <th>embarrassment</th>\n",
       "      <th>happy</th>\n",
       "      <th>neutrality</th>\n",
       "      <th>sad</th>\n",
       "      <th>unrest</th>\n",
       "    </tr>\n",
       "  </thead>\n",
       "  <tbody>\n",
       "    <tr>\n",
       "      <th>anger</th>\n",
       "      <td>479</td>\n",
       "      <td>47</td>\n",
       "      <td>36</td>\n",
       "      <td>57</td>\n",
       "      <td>57</td>\n",
       "      <td>124</td>\n",
       "    </tr>\n",
       "    <tr>\n",
       "      <th>embarrassment</th>\n",
       "      <td>40</td>\n",
       "      <td>536</td>\n",
       "      <td>9</td>\n",
       "      <td>82</td>\n",
       "      <td>11</td>\n",
       "      <td>122</td>\n",
       "    </tr>\n",
       "    <tr>\n",
       "      <th>happy</th>\n",
       "      <td>17</td>\n",
       "      <td>9</td>\n",
       "      <td>748</td>\n",
       "      <td>10</td>\n",
       "      <td>9</td>\n",
       "      <td>7</td>\n",
       "    </tr>\n",
       "    <tr>\n",
       "      <th>neutrality</th>\n",
       "      <td>14</td>\n",
       "      <td>10</td>\n",
       "      <td>10</td>\n",
       "      <td>715</td>\n",
       "      <td>34</td>\n",
       "      <td>17</td>\n",
       "    </tr>\n",
       "    <tr>\n",
       "      <th>sad</th>\n",
       "      <td>36</td>\n",
       "      <td>10</td>\n",
       "      <td>25</td>\n",
       "      <td>87</td>\n",
       "      <td>566</td>\n",
       "      <td>76</td>\n",
       "    </tr>\n",
       "    <tr>\n",
       "      <th>unrest</th>\n",
       "      <td>57</td>\n",
       "      <td>116</td>\n",
       "      <td>33</td>\n",
       "      <td>160</td>\n",
       "      <td>117</td>\n",
       "      <td>317</td>\n",
       "    </tr>\n",
       "  </tbody>\n",
       "</table>\n",
       "</div>"
      ],
      "text/plain": [
       "               anger  embarrassment  happy  neutrality  sad  unrest\n",
       "anger            479             47     36          57   57     124\n",
       "embarrassment     40            536      9          82   11     122\n",
       "happy             17              9    748          10    9       7\n",
       "neutrality        14             10     10         715   34      17\n",
       "sad               36             10     25          87  566      76\n",
       "unrest            57            116     33         160  117     317"
      ]
     },
     "execution_count": 20,
     "metadata": {},
     "output_type": "execute_result"
    }
   ],
   "source": [
    "cm = confusion_matrix(test_generator.classes, y_pred)\n",
    "label = ['anger', 'embarrassment', 'happy', 'neutrality', 'sad', 'unrest']\n",
    "\n",
    "cm_df = pd.DataFrame(cm, index = label,\n",
    "                     columns = label\n",
    "                    )\n",
    "\n",
    "cm_df"
   ]
  },
  {
   "cell_type": "code",
   "execution_count": 21,
   "metadata": {},
   "outputs": [],
   "source": [
    "cm_df.to_csv('confusion_matrix.csv')"
   ]
  },
  {
   "cell_type": "code",
   "execution_count": 22,
   "metadata": {},
   "outputs": [
    {
     "name": "stdout",
     "output_type": "stream",
     "text": [
      "Classification Report\n",
      "               precision    recall  f1-score   support\n",
      "\n",
      "        anger       0.74      0.60      0.66       800\n",
      "embarrassment       0.74      0.67      0.70       800\n",
      "        happy       0.87      0.94      0.90       800\n",
      "   neutrality       0.64      0.89      0.75       800\n",
      "          sad       0.71      0.71      0.71       800\n",
      "       unrest       0.48      0.40      0.43       800\n",
      "\n",
      "     accuracy                           0.70      4800\n",
      "    macro avg       0.70      0.70      0.69      4800\n",
      " weighted avg       0.70      0.70      0.69      4800\n",
      "\n"
     ]
    }
   ],
   "source": [
    "print('Classification Report')\n",
    "target_names = ['anger', 'embarrassment', 'happy', 'neutrality', 'sad', 'unrest']\n",
    "cr = classification_report(test_generator.classes, y_pred, target_names=target_names)\n",
    "print(cr)"
   ]
  },
  {
   "cell_type": "code",
   "execution_count": 33,
   "metadata": {},
   "outputs": [
    {
     "data": {
      "image/png": "[encoded data removed]",
      "text/plain": [
       "<Figure size 720x504 with 2 Axes>"
      ]
     },
     "metadata": {
      "needs_background": "light"
     },
     "output_type": "display_data"
    }
   ],
   "source": [
    "import seaborn as sns\n",
    "\n",
    "cm = confusion_matrix(test_generator.classes, y_pred)\n",
    "label = ['anger', 'embarrassment', 'happy', 'neutrality', 'sad', 'unrest']\n",
    "plt.figure(figsize=(10,7))\n",
    "sns.heatmap(cm, xticklabels=label, yticklabels=label,annot=True, annot_kws={\"size\": 12}, cmap='RdPu',fmt=\"g\", linewidths = 0.5)\n",
    "plt.xticks(rotation = 30 )\n",
    "#plt.xlabel('Predicted label', fontsize=20)\n",
    "#plt.ylabel('True Label', fontsize=20)\n",
    "plt.savefig('/modelcheck/confusion_matrix.jpg')\n"
   ]
  },
  {
   "cell_type": "markdown",
   "metadata": {},
   "source": [
    "```\n",
    "anger를 ['embarrassment', 'happy', 'neutrality', 'sad', 'unrest']라고 예측한 경우\n",
    "[47, 36, 57, 57, 124]\n",
    "```       "
   ]
  },
  {
   "cell_type": "code",
   "execution_count": null,
   "metadata": {},
   "outputs": [],
   "source": []
  }
 ],
 "metadata": {
  "interpreter": {
   "hash": "827b08cd85705fb7eacc355613fa32419a79164459a55411a432bdabc8adad52"
  },
  "kernelspec": {
   "display_name": "Python 3.8.5 64-bit ('base': conda)",
   "language": "python",
   "name": "python3"
  },
  "language_info": {
   "codemirror_mode": {
    "name": "ipython",
    "version": 3
   },
   "file_extension": ".py",
   "mimetype": "text/x-python",
   "name": "python",
   "nbconvert_exporter": "python",
   "pygments_lexer": "ipython3",
   "version": "3.8.5"
  },
  "orig_nbformat": 4
 },
 "nbformat": 4,
 "nbformat_minor": 2
}
